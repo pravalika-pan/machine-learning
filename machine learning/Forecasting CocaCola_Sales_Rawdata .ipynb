{
 "cells": [
  {
   "cell_type": "code",
   "execution_count": 27,
   "id": "55c4e5e1",
   "metadata": {
    "ExecuteTime": {
     "end_time": "2023-04-08T05:00:26.066341Z",
     "start_time": "2023-04-08T05:00:26.059583Z"
    }
   },
   "outputs": [],
   "source": [
    "# import basic libraries \n",
    "import pandas as pd \n",
    "import matplotlib.pyplot as plt\n",
    "import seaborn as sns\n",
    "import numpy as np"
   ]
  },
  {
   "cell_type": "code",
   "execution_count": 2,
   "id": "2a921859",
   "metadata": {
    "ExecuteTime": {
     "end_time": "2023-04-08T04:47:56.206834Z",
     "start_time": "2023-04-08T04:47:55.211891Z"
    }
   },
   "outputs": [
    {
     "data": {
      "text/html": [
       "<div>\n",
       "<style scoped>\n",
       "    .dataframe tbody tr th:only-of-type {\n",
       "        vertical-align: middle;\n",
       "    }\n",
       "\n",
       "    .dataframe tbody tr th {\n",
       "        vertical-align: top;\n",
       "    }\n",
       "\n",
       "    .dataframe thead th {\n",
       "        text-align: right;\n",
       "    }\n",
       "</style>\n",
       "<table border=\"1\" class=\"dataframe\">\n",
       "  <thead>\n",
       "    <tr style=\"text-align: right;\">\n",
       "      <th></th>\n",
       "      <th>Quarter</th>\n",
       "      <th>Sales</th>\n",
       "    </tr>\n",
       "  </thead>\n",
       "  <tbody>\n",
       "    <tr>\n",
       "      <th>0</th>\n",
       "      <td>Q1_86</td>\n",
       "      <td>1734.827000</td>\n",
       "    </tr>\n",
       "    <tr>\n",
       "      <th>1</th>\n",
       "      <td>Q2_86</td>\n",
       "      <td>2244.960999</td>\n",
       "    </tr>\n",
       "    <tr>\n",
       "      <th>2</th>\n",
       "      <td>Q3_86</td>\n",
       "      <td>2533.804993</td>\n",
       "    </tr>\n",
       "    <tr>\n",
       "      <th>3</th>\n",
       "      <td>Q4_86</td>\n",
       "      <td>2154.962997</td>\n",
       "    </tr>\n",
       "    <tr>\n",
       "      <th>4</th>\n",
       "      <td>Q1_87</td>\n",
       "      <td>1547.818996</td>\n",
       "    </tr>\n",
       "    <tr>\n",
       "      <th>5</th>\n",
       "      <td>Q2_87</td>\n",
       "      <td>2104.411995</td>\n",
       "    </tr>\n",
       "    <tr>\n",
       "      <th>6</th>\n",
       "      <td>Q3_87</td>\n",
       "      <td>2014.362999</td>\n",
       "    </tr>\n",
       "    <tr>\n",
       "      <th>7</th>\n",
       "      <td>Q4_87</td>\n",
       "      <td>1991.746998</td>\n",
       "    </tr>\n",
       "    <tr>\n",
       "      <th>8</th>\n",
       "      <td>Q1_88</td>\n",
       "      <td>1869.049999</td>\n",
       "    </tr>\n",
       "    <tr>\n",
       "      <th>9</th>\n",
       "      <td>Q2_88</td>\n",
       "      <td>2313.631996</td>\n",
       "    </tr>\n",
       "    <tr>\n",
       "      <th>10</th>\n",
       "      <td>Q3_88</td>\n",
       "      <td>2128.320000</td>\n",
       "    </tr>\n",
       "    <tr>\n",
       "      <th>11</th>\n",
       "      <td>Q4_88</td>\n",
       "      <td>2026.828999</td>\n",
       "    </tr>\n",
       "    <tr>\n",
       "      <th>12</th>\n",
       "      <td>Q1_89</td>\n",
       "      <td>1910.603996</td>\n",
       "    </tr>\n",
       "    <tr>\n",
       "      <th>13</th>\n",
       "      <td>Q2_89</td>\n",
       "      <td>2331.164993</td>\n",
       "    </tr>\n",
       "    <tr>\n",
       "      <th>14</th>\n",
       "      <td>Q3_89</td>\n",
       "      <td>2206.549995</td>\n",
       "    </tr>\n",
       "    <tr>\n",
       "      <th>15</th>\n",
       "      <td>Q4_89</td>\n",
       "      <td>2173.967995</td>\n",
       "    </tr>\n",
       "    <tr>\n",
       "      <th>16</th>\n",
       "      <td>Q1_90</td>\n",
       "      <td>2148.278000</td>\n",
       "    </tr>\n",
       "    <tr>\n",
       "      <th>17</th>\n",
       "      <td>Q2_90</td>\n",
       "      <td>2739.307999</td>\n",
       "    </tr>\n",
       "    <tr>\n",
       "      <th>18</th>\n",
       "      <td>Q3_90</td>\n",
       "      <td>2792.753998</td>\n",
       "    </tr>\n",
       "    <tr>\n",
       "      <th>19</th>\n",
       "      <td>Q4_90</td>\n",
       "      <td>2556.009995</td>\n",
       "    </tr>\n",
       "    <tr>\n",
       "      <th>20</th>\n",
       "      <td>Q1_91</td>\n",
       "      <td>2480.973999</td>\n",
       "    </tr>\n",
       "    <tr>\n",
       "      <th>21</th>\n",
       "      <td>Q2_91</td>\n",
       "      <td>3039.522995</td>\n",
       "    </tr>\n",
       "    <tr>\n",
       "      <th>22</th>\n",
       "      <td>Q3_91</td>\n",
       "      <td>3172.115997</td>\n",
       "    </tr>\n",
       "    <tr>\n",
       "      <th>23</th>\n",
       "      <td>Q4_91</td>\n",
       "      <td>2879.000999</td>\n",
       "    </tr>\n",
       "    <tr>\n",
       "      <th>24</th>\n",
       "      <td>Q1_92</td>\n",
       "      <td>2772.000000</td>\n",
       "    </tr>\n",
       "    <tr>\n",
       "      <th>25</th>\n",
       "      <td>Q2_92</td>\n",
       "      <td>3550.000000</td>\n",
       "    </tr>\n",
       "    <tr>\n",
       "      <th>26</th>\n",
       "      <td>Q3_92</td>\n",
       "      <td>3508.000000</td>\n",
       "    </tr>\n",
       "    <tr>\n",
       "      <th>27</th>\n",
       "      <td>Q4_92</td>\n",
       "      <td>3243.859993</td>\n",
       "    </tr>\n",
       "    <tr>\n",
       "      <th>28</th>\n",
       "      <td>Q1_93</td>\n",
       "      <td>3056.000000</td>\n",
       "    </tr>\n",
       "    <tr>\n",
       "      <th>29</th>\n",
       "      <td>Q2_93</td>\n",
       "      <td>3899.000000</td>\n",
       "    </tr>\n",
       "    <tr>\n",
       "      <th>30</th>\n",
       "      <td>Q3_93</td>\n",
       "      <td>3629.000000</td>\n",
       "    </tr>\n",
       "    <tr>\n",
       "      <th>31</th>\n",
       "      <td>Q4_93</td>\n",
       "      <td>3373.000000</td>\n",
       "    </tr>\n",
       "    <tr>\n",
       "      <th>32</th>\n",
       "      <td>Q1_94</td>\n",
       "      <td>3352.000000</td>\n",
       "    </tr>\n",
       "    <tr>\n",
       "      <th>33</th>\n",
       "      <td>Q2_94</td>\n",
       "      <td>4342.000000</td>\n",
       "    </tr>\n",
       "    <tr>\n",
       "      <th>34</th>\n",
       "      <td>Q3_94</td>\n",
       "      <td>4461.000000</td>\n",
       "    </tr>\n",
       "    <tr>\n",
       "      <th>35</th>\n",
       "      <td>Q4_94</td>\n",
       "      <td>4017.000000</td>\n",
       "    </tr>\n",
       "    <tr>\n",
       "      <th>36</th>\n",
       "      <td>Q1_95</td>\n",
       "      <td>3854.000000</td>\n",
       "    </tr>\n",
       "    <tr>\n",
       "      <th>37</th>\n",
       "      <td>Q2_95</td>\n",
       "      <td>4936.000000</td>\n",
       "    </tr>\n",
       "    <tr>\n",
       "      <th>38</th>\n",
       "      <td>Q3_95</td>\n",
       "      <td>4895.000000</td>\n",
       "    </tr>\n",
       "    <tr>\n",
       "      <th>39</th>\n",
       "      <td>Q4_95</td>\n",
       "      <td>4333.000000</td>\n",
       "    </tr>\n",
       "    <tr>\n",
       "      <th>40</th>\n",
       "      <td>Q1_96</td>\n",
       "      <td>4194.000000</td>\n",
       "    </tr>\n",
       "    <tr>\n",
       "      <th>41</th>\n",
       "      <td>Q2_96</td>\n",
       "      <td>5253.000000</td>\n",
       "    </tr>\n",
       "  </tbody>\n",
       "</table>\n",
       "</div>"
      ],
      "text/plain": [
       "   Quarter        Sales\n",
       "0    Q1_86  1734.827000\n",
       "1    Q2_86  2244.960999\n",
       "2    Q3_86  2533.804993\n",
       "3    Q4_86  2154.962997\n",
       "4    Q1_87  1547.818996\n",
       "5    Q2_87  2104.411995\n",
       "6    Q3_87  2014.362999\n",
       "7    Q4_87  1991.746998\n",
       "8    Q1_88  1869.049999\n",
       "9    Q2_88  2313.631996\n",
       "10   Q3_88  2128.320000\n",
       "11   Q4_88  2026.828999\n",
       "12   Q1_89  1910.603996\n",
       "13   Q2_89  2331.164993\n",
       "14   Q3_89  2206.549995\n",
       "15   Q4_89  2173.967995\n",
       "16   Q1_90  2148.278000\n",
       "17   Q2_90  2739.307999\n",
       "18   Q3_90  2792.753998\n",
       "19   Q4_90  2556.009995\n",
       "20   Q1_91  2480.973999\n",
       "21   Q2_91  3039.522995\n",
       "22   Q3_91  3172.115997\n",
       "23   Q4_91  2879.000999\n",
       "24   Q1_92  2772.000000\n",
       "25   Q2_92  3550.000000\n",
       "26   Q3_92  3508.000000\n",
       "27   Q4_92  3243.859993\n",
       "28   Q1_93  3056.000000\n",
       "29   Q2_93  3899.000000\n",
       "30   Q3_93  3629.000000\n",
       "31   Q4_93  3373.000000\n",
       "32   Q1_94  3352.000000\n",
       "33   Q2_94  4342.000000\n",
       "34   Q3_94  4461.000000\n",
       "35   Q4_94  4017.000000\n",
       "36   Q1_95  3854.000000\n",
       "37   Q2_95  4936.000000\n",
       "38   Q3_95  4895.000000\n",
       "39   Q4_95  4333.000000\n",
       "40   Q1_96  4194.000000\n",
       "41   Q2_96  5253.000000"
      ]
     },
     "execution_count": 2,
     "metadata": {},
     "output_type": "execute_result"
    }
   ],
   "source": [
    "cocacola=pd.read_excel(\"CocaCola_Sales_Rawdata.xlsx\") \n",
    "cocacola"
   ]
  },
  {
   "cell_type": "code",
   "execution_count": 4,
   "id": "0ec00f01",
   "metadata": {
    "ExecuteTime": {
     "end_time": "2023-04-08T04:48:48.425878Z",
     "start_time": "2023-04-08T04:48:48.402728Z"
    }
   },
   "outputs": [
    {
     "data": {
      "text/plain": [
       "(42, 2)"
      ]
     },
     "execution_count": 4,
     "metadata": {},
     "output_type": "execute_result"
    }
   ],
   "source": [
    "# Explore Data Analysiss(EDA)\n",
    "cocacola.shape"
   ]
  },
  {
   "cell_type": "code",
   "execution_count": 42,
   "id": "ef974dcf",
   "metadata": {
    "ExecuteTime": {
     "end_time": "2023-04-08T05:12:50.496776Z",
     "start_time": "2023-04-08T05:12:50.483245Z"
    }
   },
   "outputs": [
    {
     "data": {
      "text/plain": [
       "42"
      ]
     },
     "execution_count": 42,
     "metadata": {},
     "output_type": "execute_result"
    }
   ],
   "source": [
    "len(cocacola)"
   ]
  },
  {
   "cell_type": "code",
   "execution_count": 5,
   "id": "74c9c47a",
   "metadata": {
    "ExecuteTime": {
     "end_time": "2023-04-08T04:49:25.676058Z",
     "start_time": "2023-04-08T04:49:25.654624Z"
    }
   },
   "outputs": [
    {
     "data": {
      "text/plain": [
       "Quarter    False\n",
       "Sales      False\n",
       "dtype: bool"
      ]
     },
     "execution_count": 5,
     "metadata": {},
     "output_type": "execute_result"
    }
   ],
   "source": [
    "cocacola.isna().any()"
   ]
  },
  {
   "cell_type": "code",
   "execution_count": 6,
   "id": "b0bd7056",
   "metadata": {
    "ExecuteTime": {
     "end_time": "2023-04-08T04:50:04.867052Z",
     "start_time": "2023-04-08T04:50:04.822768Z"
    }
   },
   "outputs": [
    {
     "name": "stdout",
     "output_type": "stream",
     "text": [
      "<class 'pandas.core.frame.DataFrame'>\n",
      "RangeIndex: 42 entries, 0 to 41\n",
      "Data columns (total 2 columns):\n",
      " #   Column   Non-Null Count  Dtype  \n",
      "---  ------   --------------  -----  \n",
      " 0   Quarter  42 non-null     object \n",
      " 1   Sales    42 non-null     float64\n",
      "dtypes: float64(1), object(1)\n",
      "memory usage: 800.0+ bytes\n"
     ]
    }
   ],
   "source": [
    "cocacola.info()"
   ]
  },
  {
   "cell_type": "code",
   "execution_count": 10,
   "id": "71925990",
   "metadata": {
    "ExecuteTime": {
     "end_time": "2023-04-08T04:50:52.513746Z",
     "start_time": "2023-04-08T04:50:52.495553Z"
    }
   },
   "outputs": [
    {
     "data": {
      "text/html": [
       "<div>\n",
       "<style scoped>\n",
       "    .dataframe tbody tr th:only-of-type {\n",
       "        vertical-align: middle;\n",
       "    }\n",
       "\n",
       "    .dataframe tbody tr th {\n",
       "        vertical-align: top;\n",
       "    }\n",
       "\n",
       "    .dataframe thead th {\n",
       "        text-align: right;\n",
       "    }\n",
       "</style>\n",
       "<table border=\"1\" class=\"dataframe\">\n",
       "  <thead>\n",
       "    <tr style=\"text-align: right;\">\n",
       "      <th></th>\n",
       "      <th>Quarter</th>\n",
       "      <th>Sales</th>\n",
       "    </tr>\n",
       "  </thead>\n",
       "  <tbody>\n",
       "    <tr>\n",
       "      <th>0</th>\n",
       "      <td>Q1_86</td>\n",
       "      <td>1734.827000</td>\n",
       "    </tr>\n",
       "    <tr>\n",
       "      <th>1</th>\n",
       "      <td>Q2_86</td>\n",
       "      <td>2244.960999</td>\n",
       "    </tr>\n",
       "    <tr>\n",
       "      <th>2</th>\n",
       "      <td>Q3_86</td>\n",
       "      <td>2533.804993</td>\n",
       "    </tr>\n",
       "    <tr>\n",
       "      <th>3</th>\n",
       "      <td>Q4_86</td>\n",
       "      <td>2154.962997</td>\n",
       "    </tr>\n",
       "    <tr>\n",
       "      <th>4</th>\n",
       "      <td>Q1_87</td>\n",
       "      <td>1547.818996</td>\n",
       "    </tr>\n",
       "  </tbody>\n",
       "</table>\n",
       "</div>"
      ],
      "text/plain": [
       "  Quarter        Sales\n",
       "0   Q1_86  1734.827000\n",
       "1   Q2_86  2244.960999\n",
       "2   Q3_86  2533.804993\n",
       "3   Q4_86  2154.962997\n",
       "4   Q1_87  1547.818996"
      ]
     },
     "execution_count": 10,
     "metadata": {},
     "output_type": "execute_result"
    }
   ],
   "source": [
    "cocacola.head() "
   ]
  },
  {
   "cell_type": "code",
   "execution_count": 11,
   "id": "7280fa25",
   "metadata": {
    "ExecuteTime": {
     "end_time": "2023-04-08T04:51:08.712916Z",
     "start_time": "2023-04-08T04:51:08.689361Z"
    }
   },
   "outputs": [
    {
     "data": {
      "text/html": [
       "<div>\n",
       "<style scoped>\n",
       "    .dataframe tbody tr th:only-of-type {\n",
       "        vertical-align: middle;\n",
       "    }\n",
       "\n",
       "    .dataframe tbody tr th {\n",
       "        vertical-align: top;\n",
       "    }\n",
       "\n",
       "    .dataframe thead th {\n",
       "        text-align: right;\n",
       "    }\n",
       "</style>\n",
       "<table border=\"1\" class=\"dataframe\">\n",
       "  <thead>\n",
       "    <tr style=\"text-align: right;\">\n",
       "      <th></th>\n",
       "      <th>Quarter</th>\n",
       "      <th>Sales</th>\n",
       "    </tr>\n",
       "  </thead>\n",
       "  <tbody>\n",
       "    <tr>\n",
       "      <th>37</th>\n",
       "      <td>Q2_95</td>\n",
       "      <td>4936.0</td>\n",
       "    </tr>\n",
       "    <tr>\n",
       "      <th>38</th>\n",
       "      <td>Q3_95</td>\n",
       "      <td>4895.0</td>\n",
       "    </tr>\n",
       "    <tr>\n",
       "      <th>39</th>\n",
       "      <td>Q4_95</td>\n",
       "      <td>4333.0</td>\n",
       "    </tr>\n",
       "    <tr>\n",
       "      <th>40</th>\n",
       "      <td>Q1_96</td>\n",
       "      <td>4194.0</td>\n",
       "    </tr>\n",
       "    <tr>\n",
       "      <th>41</th>\n",
       "      <td>Q2_96</td>\n",
       "      <td>5253.0</td>\n",
       "    </tr>\n",
       "  </tbody>\n",
       "</table>\n",
       "</div>"
      ],
      "text/plain": [
       "   Quarter   Sales\n",
       "37   Q2_95  4936.0\n",
       "38   Q3_95  4895.0\n",
       "39   Q4_95  4333.0\n",
       "40   Q1_96  4194.0\n",
       "41   Q2_96  5253.0"
      ]
     },
     "execution_count": 11,
     "metadata": {},
     "output_type": "execute_result"
    }
   ],
   "source": [
    "cocacola.tail()"
   ]
  },
  {
   "cell_type": "code",
   "execution_count": 12,
   "id": "a2a8f793",
   "metadata": {
    "ExecuteTime": {
     "end_time": "2023-04-08T04:51:24.462190Z",
     "start_time": "2023-04-08T04:51:24.424397Z"
    }
   },
   "outputs": [
    {
     "data": {
      "text/html": [
       "<div>\n",
       "<style scoped>\n",
       "    .dataframe tbody tr th:only-of-type {\n",
       "        vertical-align: middle;\n",
       "    }\n",
       "\n",
       "    .dataframe tbody tr th {\n",
       "        vertical-align: top;\n",
       "    }\n",
       "\n",
       "    .dataframe thead th {\n",
       "        text-align: right;\n",
       "    }\n",
       "</style>\n",
       "<table border=\"1\" class=\"dataframe\">\n",
       "  <thead>\n",
       "    <tr style=\"text-align: right;\">\n",
       "      <th></th>\n",
       "      <th>Sales</th>\n",
       "    </tr>\n",
       "  </thead>\n",
       "  <tbody>\n",
       "    <tr>\n",
       "      <th>count</th>\n",
       "      <td>42.000000</td>\n",
       "    </tr>\n",
       "    <tr>\n",
       "      <th>mean</th>\n",
       "      <td>2994.353308</td>\n",
       "    </tr>\n",
       "    <tr>\n",
       "      <th>std</th>\n",
       "      <td>977.930896</td>\n",
       "    </tr>\n",
       "    <tr>\n",
       "      <th>min</th>\n",
       "      <td>1547.818996</td>\n",
       "    </tr>\n",
       "    <tr>\n",
       "      <th>25%</th>\n",
       "      <td>2159.714247</td>\n",
       "    </tr>\n",
       "    <tr>\n",
       "      <th>50%</th>\n",
       "      <td>2782.376999</td>\n",
       "    </tr>\n",
       "    <tr>\n",
       "      <th>75%</th>\n",
       "      <td>3609.250000</td>\n",
       "    </tr>\n",
       "    <tr>\n",
       "      <th>max</th>\n",
       "      <td>5253.000000</td>\n",
       "    </tr>\n",
       "  </tbody>\n",
       "</table>\n",
       "</div>"
      ],
      "text/plain": [
       "             Sales\n",
       "count    42.000000\n",
       "mean   2994.353308\n",
       "std     977.930896\n",
       "min    1547.818996\n",
       "25%    2159.714247\n",
       "50%    2782.376999\n",
       "75%    3609.250000\n",
       "max    5253.000000"
      ]
     },
     "execution_count": 12,
     "metadata": {},
     "output_type": "execute_result"
    }
   ],
   "source": [
    "cocacola.describe()"
   ]
  },
  {
   "cell_type": "code",
   "execution_count": 13,
   "id": "4e482b7a",
   "metadata": {
    "ExecuteTime": {
     "end_time": "2023-04-08T04:51:59.114940Z",
     "start_time": "2023-04-08T04:51:58.588058Z"
    }
   },
   "outputs": [
    {
     "data": {
      "text/plain": [
       "<Axes: >"
      ]
     },
     "execution_count": 13,
     "metadata": {},
     "output_type": "execute_result"
    },
    {
     "data": {
      "image/png": "[encoded data removed]",
      "text/plain": [
       "<Figure size 640x480 with 1 Axes>"
      ]
     },
     "metadata": {},
     "output_type": "display_data"
    }
   ],
   "source": [
    "cocacola.plot()"
   ]
  },
  {
   "cell_type": "code",
   "execution_count": 61,
   "id": "8400af07",
   "metadata": {
    "ExecuteTime": {
     "end_time": "2023-04-08T05:29:40.629493Z",
     "start_time": "2023-04-08T05:29:40.243306Z"
    }
   },
   "outputs": [
    {
     "data": {
      "text/plain": [
       "<Axes: >"
      ]
     },
     "execution_count": 61,
     "metadata": {},
     "output_type": "execute_result"
    },
    {
     "data": {
      "image/png": "[encoded data removed]",
      "text/plain": [
       "<Figure size 640x480 with 1 Axes>"
      ]
     },
     "metadata": {},
     "output_type": "display_data"
    }
   ],
   "source": [
    "cocacola[\"Sales\"].plot()"
   ]
  },
  {
   "cell_type": "code",
   "execution_count": 25,
   "id": "16788427",
   "metadata": {
    "ExecuteTime": {
     "end_time": "2023-04-08T04:59:13.210872Z",
     "start_time": "2023-04-08T04:59:12.979202Z"
    }
   },
   "outputs": [
    {
     "data": {
      "text/plain": [
       "<Axes: >"
      ]
     },
     "execution_count": 25,
     "metadata": {},
     "output_type": "execute_result"
    },
    {
     "data": {
      "image/png": "[encoded data removed]",
      "text/plain": [
       "<Figure size 640x480 with 1 Axes>"
      ]
     },
     "metadata": {},
     "output_type": "display_data"
    }
   ],
   "source": [
    "cocacola.boxplot()"
   ]
  },
  {
   "cell_type": "code",
   "execution_count": 20,
   "id": "1bb5dd91",
   "metadata": {
    "ExecuteTime": {
     "end_time": "2023-04-08T04:55:58.106282Z",
     "start_time": "2023-04-08T04:55:57.733979Z"
    }
   },
   "outputs": [
    {
     "data": {
      "text/plain": [
       "<Axes: ylabel='Count'>"
      ]
     },
     "execution_count": 20,
     "metadata": {},
     "output_type": "execute_result"
    },
    {
     "data": {
      "image/png": "[encoded data removed]",
      "text/plain": [
       "<Figure size 640x480 with 1 Axes>"
      ]
     },
     "metadata": {},
     "output_type": "display_data"
    }
   ],
   "source": [
    "sns.histplot(data=cocacola)"
   ]
  },
  {
   "cell_type": "code",
   "execution_count": 21,
   "id": "1b79cf7e",
   "metadata": {
    "ExecuteTime": {
     "end_time": "2023-04-08T04:56:24.019705Z",
     "start_time": "2023-04-08T04:56:23.658436Z"
    }
   },
   "outputs": [
    {
     "data": {
      "text/plain": [
       "array([[<Axes: title={'center': 'Sales'}>]], dtype=object)"
      ]
     },
     "execution_count": 21,
     "metadata": {},
     "output_type": "execute_result"
    },
    {
     "data": {
      "image/png": "[encoded data removed]",
      "text/plain": [
       "<Figure size 640x480 with 1 Axes>"
      ]
     },
     "metadata": {},
     "output_type": "display_data"
    }
   ],
   "source": [
    "cocacola.hist()"
   ]
  },
  {
   "cell_type": "code",
   "execution_count": 22,
   "id": "8a9d0d34",
   "metadata": {
    "ExecuteTime": {
     "end_time": "2023-04-08T04:57:37.245173Z",
     "start_time": "2023-04-08T04:57:36.811492Z"
    }
   },
   "outputs": [
    {
     "data": {
      "text/plain": [
       "<Axes: ylabel='Density'>"
      ]
     },
     "execution_count": 22,
     "metadata": {},
     "output_type": "execute_result"
    },
    {
     "data": {
      "image/png": "[encoded data removed]",
      "text/plain": [
       "<Figure size 640x480 with 1 Axes>"
      ]
     },
     "metadata": {},
     "output_type": "display_data"
    }
   ],
   "source": [
    "cocacola.plot(kind=\"kde\")"
   ]
  },
  {
   "cell_type": "code",
   "execution_count": 28,
   "id": "5bcf3ce3",
   "metadata": {
    "ExecuteTime": {
     "end_time": "2023-04-08T05:00:32.094321Z",
     "start_time": "2023-04-08T05:00:32.070791Z"
    }
   },
   "outputs": [
    {
     "data": {
      "text/plain": [
       "array([['Q1_86', 1734.8269996643066],\n",
       "       ['Q2_86', 2244.9609985351562],\n",
       "       ['Q3_86', 2533.8049926757812],\n",
       "       ['Q4_86', 2154.9629974365234],\n",
       "       ['Q1_87', 1547.8189964294434],\n",
       "       ['Q2_87', 2104.411994934082],\n",
       "       ['Q3_87', 2014.3629989624023],\n",
       "       ['Q4_87', 1991.746997833252],\n",
       "       ['Q1_88', 1869.0499992370605],\n",
       "       ['Q2_88', 2313.631996154785],\n",
       "       ['Q3_88', 2128.319999694824],\n",
       "       ['Q4_88', 2026.8289985656738],\n",
       "       ['Q1_89', 1910.6039962768555],\n",
       "       ['Q2_89', 2331.164993286133],\n",
       "       ['Q3_89', 2206.5499954223633],\n",
       "       ['Q4_89', 2173.9679946899414],\n",
       "       ['Q1_90', 2148.2779998779297],\n",
       "       ['Q2_90', 2739.3079986572266],\n",
       "       ['Q3_90', 2792.7539978027344],\n",
       "       ['Q4_90', 2556.009994506836],\n",
       "       ['Q1_91', 2480.9739990234375],\n",
       "       ['Q2_91', 3039.522994995117],\n",
       "       ['Q3_91', 3172.115997314453],\n",
       "       ['Q4_91', 2879.0009994506836],\n",
       "       ['Q1_92', 2772.0],\n",
       "       ['Q2_92', 3550.0],\n",
       "       ['Q3_92', 3508.0],\n",
       "       ['Q4_92', 3243.859992980957],\n",
       "       ['Q1_93', 3056.0],\n",
       "       ['Q2_93', 3899.0],\n",
       "       ['Q3_93', 3629.0],\n",
       "       ['Q4_93', 3373.0],\n",
       "       ['Q1_94', 3352.0],\n",
       "       ['Q2_94', 4342.0],\n",
       "       ['Q3_94', 4461.0],\n",
       "       ['Q4_94', 4017.0],\n",
       "       ['Q1_95', 3854.0],\n",
       "       ['Q2_95', 4936.0],\n",
       "       ['Q3_95', 4895.0],\n",
       "       ['Q4_95', 4333.0],\n",
       "       ['Q1_96', 4194.0],\n",
       "       ['Q2_96', 5253.0]], dtype=object)"
      ]
     },
     "execution_count": 28,
     "metadata": {},
     "output_type": "execute_result"
    }
   ],
   "source": [
    "np.array(cocacola)"
   ]
  },
  {
   "cell_type": "code",
   "execution_count": 30,
   "id": "0ec8c5c8",
   "metadata": {
    "ExecuteTime": {
     "end_time": "2023-04-08T05:01:21.462126Z",
     "start_time": "2023-04-08T05:01:21.431271Z"
    }
   },
   "outputs": [
    {
     "data": {
      "text/plain": [
       "array([1734.82699966, 2244.96099854, 2533.80499268, 2154.96299744,\n",
       "       1547.81899643, 2104.41199493, 2014.36299896, 1991.74699783,\n",
       "       1869.04999924, 2313.63199615, 2128.31999969, 2026.82899857,\n",
       "       1910.60399628, 2331.16499329, 2206.54999542, 2173.96799469,\n",
       "       2148.27799988, 2739.30799866, 2792.7539978 , 2556.00999451,\n",
       "       2480.97399902, 3039.522995  , 3172.11599731, 2879.00099945,\n",
       "       2772.        , 3550.        , 3508.        , 3243.85999298,\n",
       "       3056.        , 3899.        , 3629.        , 3373.        ,\n",
       "       3352.        , 4342.        , 4461.        , 4017.        ,\n",
       "       3854.        , 4936.        , 4895.        , 4333.        ,\n",
       "       4194.        , 5253.        ])"
      ]
     },
     "execution_count": 30,
     "metadata": {},
     "output_type": "execute_result"
    }
   ],
   "source": [
    "np.array(cocacola['Sales'])"
   ]
  },
  {
   "cell_type": "code",
   "execution_count": 34,
   "id": "41b456de",
   "metadata": {
    "ExecuteTime": {
     "end_time": "2023-04-08T05:03:20.888966Z",
     "start_time": "2023-04-08T05:03:20.437036Z"
    }
   },
   "outputs": [
    {
     "name": "stderr",
     "output_type": "stream",
     "text": [
      "C:\\Users\\HP\\AppData\\Local\\Temp\\ipykernel_5708\\3106050898.py:2: UserWarning: \n",
      "\n",
      "`distplot` is a deprecated function and will be removed in seaborn v0.14.0.\n",
      "\n",
      "Please adapt your code to use either `displot` (a figure-level function with\n",
      "similar flexibility) or `histplot` (an axes-level function for histograms).\n",
      "\n",
      "For a guide to updating your code to use the new functions, please see\n",
      "https://gist.github.com/mwaskom/de44147ed2974457ad6372750bbe5751\n",
      "\n",
      "  sns.distplot(cocacola['Sales'],kde=True)\n"
     ]
    },
    {
     "data": {
      "text/plain": [
       "<Axes: xlabel='Sales', ylabel='Density'>"
      ]
     },
     "execution_count": 34,
     "metadata": {},
     "output_type": "execute_result"
    },
    {
     "data": {
      "image/png": "[encoded data removed]",
      "text/plain": [
       "<Figure size 640x480 with 1 Axes>"
      ]
     },
     "metadata": {},
     "output_type": "display_data"
    }
   ],
   "source": [
    "sns.set_theme()\n",
    "sns.distplot(cocacola['Sales'],kde=True)"
   ]
  },
  {
   "cell_type": "code",
   "execution_count": 38,
   "id": "23e5cfdd",
   "metadata": {
    "ExecuteTime": {
     "end_time": "2023-04-08T05:07:57.470148Z",
     "start_time": "2023-04-08T05:07:57.019183Z"
    }
   },
   "outputs": [
    {
     "data": {
      "text/plain": [
       "<Axes: xlabel='y(t)', ylabel='y(t + 1)'>"
      ]
     },
     "execution_count": 38,
     "metadata": {},
     "output_type": "execute_result"
    },
    {
     "data": {
      "image/png": "[encoded data removed]",
      "text/plain": [
       "<Figure size 640x480 with 1 Axes>"
      ]
     },
     "metadata": {},
     "output_type": "display_data"
    }
   ],
   "source": [
    "# lag_plot\n",
    "from pandas.plotting import lag_plot\n",
    "lag_plot(cocacola[\"Sales\"])"
   ]
  },
  {
   "cell_type": "code",
   "execution_count": 41,
   "id": "65245a13",
   "metadata": {
    "ExecuteTime": {
     "end_time": "2023-04-08T05:10:30.762665Z",
     "start_time": "2023-04-08T05:10:29.925789Z"
    }
   },
   "outputs": [
    {
     "data": {
      "image/png": "[encoded data removed]",
      "text/plain": [
       "<Figure size 640x480 with 1 Axes>"
      ]
     },
     "execution_count": 41,
     "metadata": {},
     "output_type": "execute_result"
    },
    {
     "data": {
      "image/png": "[encoded data removed]",
      "text/plain": [
       "<Figure size 640x480 with 1 Axes>"
      ]
     },
     "metadata": {},
     "output_type": "display_data"
    }
   ],
   "source": [
    "# Autocorrelation_plot\n",
    "from statsmodels.graphics.tsaplots import plot_acf\n",
    "plot_acf(cocacola[\"Sales\"],lags=15)"
   ]
  },
  {
   "cell_type": "code",
   "execution_count": 43,
   "id": "a9dbb04f",
   "metadata": {
    "ExecuteTime": {
     "end_time": "2023-04-08T05:14:07.443151Z",
     "start_time": "2023-04-08T05:14:07.429336Z"
    }
   },
   "outputs": [
    {
     "name": "stderr",
     "output_type": "stream",
     "text": [
      "C:\\Users\\HP\\AppData\\Local\\Temp\\ipykernel_5708\\3978751223.py:5: SettingWithCopyWarning: \n",
      "A value is trying to be set on a copy of a slice from a DataFrame\n",
      "\n",
      "See the caveats in the documentation: https://pandas.pydata.org/pandas-docs/stable/user_guide/indexing.html#returning-a-view-versus-a-copy\n",
      "  cocacola['quarter'][i]=p[0:2]\n"
     ]
    }
   ],
   "source": [
    "# Data Preprocessing \n",
    "cocacola['quarter'] = 0\n",
    "for i in range(42):\n",
    "    p=cocacola['Quarter'][i]\n",
    "    cocacola['quarter'][i]=p[0:2]"
   ]
  },
  {
   "cell_type": "code",
   "execution_count": 45,
   "id": "e4b4627e",
   "metadata": {
    "ExecuteTime": {
     "end_time": "2023-04-08T05:14:35.107809Z",
     "start_time": "2023-04-08T05:14:35.093086Z"
    }
   },
   "outputs": [
    {
     "data": {
      "text/html": [
       "<div>\n",
       "<style scoped>\n",
       "    .dataframe tbody tr th:only-of-type {\n",
       "        vertical-align: middle;\n",
       "    }\n",
       "\n",
       "    .dataframe tbody tr th {\n",
       "        vertical-align: top;\n",
       "    }\n",
       "\n",
       "    .dataframe thead th {\n",
       "        text-align: right;\n",
       "    }\n",
       "</style>\n",
       "<table border=\"1\" class=\"dataframe\">\n",
       "  <thead>\n",
       "    <tr style=\"text-align: right;\">\n",
       "      <th></th>\n",
       "      <th>Quarter</th>\n",
       "      <th>Sales</th>\n",
       "      <th>quarter</th>\n",
       "    </tr>\n",
       "  </thead>\n",
       "  <tbody>\n",
       "    <tr>\n",
       "      <th>0</th>\n",
       "      <td>Q1_86</td>\n",
       "      <td>1734.827000</td>\n",
       "      <td>Q1</td>\n",
       "    </tr>\n",
       "    <tr>\n",
       "      <th>1</th>\n",
       "      <td>Q2_86</td>\n",
       "      <td>2244.960999</td>\n",
       "      <td>Q2</td>\n",
       "    </tr>\n",
       "    <tr>\n",
       "      <th>2</th>\n",
       "      <td>Q3_86</td>\n",
       "      <td>2533.804993</td>\n",
       "      <td>Q3</td>\n",
       "    </tr>\n",
       "    <tr>\n",
       "      <th>3</th>\n",
       "      <td>Q4_86</td>\n",
       "      <td>2154.962997</td>\n",
       "      <td>Q4</td>\n",
       "    </tr>\n",
       "    <tr>\n",
       "      <th>4</th>\n",
       "      <td>Q1_87</td>\n",
       "      <td>1547.818996</td>\n",
       "      <td>Q1</td>\n",
       "    </tr>\n",
       "  </tbody>\n",
       "</table>\n",
       "</div>"
      ],
      "text/plain": [
       "  Quarter        Sales quarter\n",
       "0   Q1_86  1734.827000      Q1\n",
       "1   Q2_86  2244.960999      Q2\n",
       "2   Q3_86  2533.804993      Q3\n",
       "3   Q4_86  2154.962997      Q4\n",
       "4   Q1_87  1547.818996      Q1"
      ]
     },
     "execution_count": 45,
     "metadata": {},
     "output_type": "execute_result"
    }
   ],
   "source": [
    "cocacola.head()"
   ]
  },
  {
   "cell_type": "code",
   "execution_count": 48,
   "id": "e29bfe8a",
   "metadata": {
    "ExecuteTime": {
     "end_time": "2023-04-08T05:15:29.918243Z",
     "start_time": "2023-04-08T05:15:29.900310Z"
    }
   },
   "outputs": [
    {
     "data": {
      "text/plain": [
       "Q1    11\n",
       "Q2    11\n",
       "Q3    10\n",
       "Q4    10\n",
       "Name: quarter, dtype: int64"
      ]
     },
     "execution_count": 48,
     "metadata": {},
     "output_type": "execute_result"
    }
   ],
   "source": [
    "cocacola[\"quarter\"].value_counts()"
   ]
  },
  {
   "cell_type": "code",
   "execution_count": 50,
   "id": "c04d0f9c",
   "metadata": {
    "ExecuteTime": {
     "end_time": "2023-04-08T05:17:41.197761Z",
     "start_time": "2023-04-08T05:17:41.169102Z"
    }
   },
   "outputs": [
    {
     "data": {
      "text/html": [
       "<div>\n",
       "<style scoped>\n",
       "    .dataframe tbody tr th:only-of-type {\n",
       "        vertical-align: middle;\n",
       "    }\n",
       "\n",
       "    .dataframe tbody tr th {\n",
       "        vertical-align: top;\n",
       "    }\n",
       "\n",
       "    .dataframe thead th {\n",
       "        text-align: right;\n",
       "    }\n",
       "</style>\n",
       "<table border=\"1\" class=\"dataframe\">\n",
       "  <thead>\n",
       "    <tr style=\"text-align: right;\">\n",
       "      <th></th>\n",
       "      <th>Q1</th>\n",
       "      <th>Q2</th>\n",
       "      <th>Q3</th>\n",
       "      <th>Q4</th>\n",
       "    </tr>\n",
       "  </thead>\n",
       "  <tbody>\n",
       "    <tr>\n",
       "      <th>0</th>\n",
       "      <td>1</td>\n",
       "      <td>0</td>\n",
       "      <td>0</td>\n",
       "      <td>0</td>\n",
       "    </tr>\n",
       "    <tr>\n",
       "      <th>1</th>\n",
       "      <td>0</td>\n",
       "      <td>1</td>\n",
       "      <td>0</td>\n",
       "      <td>0</td>\n",
       "    </tr>\n",
       "    <tr>\n",
       "      <th>2</th>\n",
       "      <td>0</td>\n",
       "      <td>0</td>\n",
       "      <td>1</td>\n",
       "      <td>0</td>\n",
       "    </tr>\n",
       "    <tr>\n",
       "      <th>3</th>\n",
       "      <td>0</td>\n",
       "      <td>0</td>\n",
       "      <td>0</td>\n",
       "      <td>1</td>\n",
       "    </tr>\n",
       "    <tr>\n",
       "      <th>4</th>\n",
       "      <td>1</td>\n",
       "      <td>0</td>\n",
       "      <td>0</td>\n",
       "      <td>0</td>\n",
       "    </tr>\n",
       "    <tr>\n",
       "      <th>5</th>\n",
       "      <td>0</td>\n",
       "      <td>1</td>\n",
       "      <td>0</td>\n",
       "      <td>0</td>\n",
       "    </tr>\n",
       "    <tr>\n",
       "      <th>6</th>\n",
       "      <td>0</td>\n",
       "      <td>0</td>\n",
       "      <td>1</td>\n",
       "      <td>0</td>\n",
       "    </tr>\n",
       "    <tr>\n",
       "      <th>7</th>\n",
       "      <td>0</td>\n",
       "      <td>0</td>\n",
       "      <td>0</td>\n",
       "      <td>1</td>\n",
       "    </tr>\n",
       "    <tr>\n",
       "      <th>8</th>\n",
       "      <td>1</td>\n",
       "      <td>0</td>\n",
       "      <td>0</td>\n",
       "      <td>0</td>\n",
       "    </tr>\n",
       "    <tr>\n",
       "      <th>9</th>\n",
       "      <td>0</td>\n",
       "      <td>1</td>\n",
       "      <td>0</td>\n",
       "      <td>0</td>\n",
       "    </tr>\n",
       "    <tr>\n",
       "      <th>10</th>\n",
       "      <td>0</td>\n",
       "      <td>0</td>\n",
       "      <td>1</td>\n",
       "      <td>0</td>\n",
       "    </tr>\n",
       "    <tr>\n",
       "      <th>11</th>\n",
       "      <td>0</td>\n",
       "      <td>0</td>\n",
       "      <td>0</td>\n",
       "      <td>1</td>\n",
       "    </tr>\n",
       "    <tr>\n",
       "      <th>12</th>\n",
       "      <td>1</td>\n",
       "      <td>0</td>\n",
       "      <td>0</td>\n",
       "      <td>0</td>\n",
       "    </tr>\n",
       "    <tr>\n",
       "      <th>13</th>\n",
       "      <td>0</td>\n",
       "      <td>1</td>\n",
       "      <td>0</td>\n",
       "      <td>0</td>\n",
       "    </tr>\n",
       "    <tr>\n",
       "      <th>14</th>\n",
       "      <td>0</td>\n",
       "      <td>0</td>\n",
       "      <td>1</td>\n",
       "      <td>0</td>\n",
       "    </tr>\n",
       "    <tr>\n",
       "      <th>15</th>\n",
       "      <td>0</td>\n",
       "      <td>0</td>\n",
       "      <td>0</td>\n",
       "      <td>1</td>\n",
       "    </tr>\n",
       "    <tr>\n",
       "      <th>16</th>\n",
       "      <td>1</td>\n",
       "      <td>0</td>\n",
       "      <td>0</td>\n",
       "      <td>0</td>\n",
       "    </tr>\n",
       "    <tr>\n",
       "      <th>17</th>\n",
       "      <td>0</td>\n",
       "      <td>1</td>\n",
       "      <td>0</td>\n",
       "      <td>0</td>\n",
       "    </tr>\n",
       "    <tr>\n",
       "      <th>18</th>\n",
       "      <td>0</td>\n",
       "      <td>0</td>\n",
       "      <td>1</td>\n",
       "      <td>0</td>\n",
       "    </tr>\n",
       "    <tr>\n",
       "      <th>19</th>\n",
       "      <td>0</td>\n",
       "      <td>0</td>\n",
       "      <td>0</td>\n",
       "      <td>1</td>\n",
       "    </tr>\n",
       "    <tr>\n",
       "      <th>20</th>\n",
       "      <td>1</td>\n",
       "      <td>0</td>\n",
       "      <td>0</td>\n",
       "      <td>0</td>\n",
       "    </tr>\n",
       "    <tr>\n",
       "      <th>21</th>\n",
       "      <td>0</td>\n",
       "      <td>1</td>\n",
       "      <td>0</td>\n",
       "      <td>0</td>\n",
       "    </tr>\n",
       "    <tr>\n",
       "      <th>22</th>\n",
       "      <td>0</td>\n",
       "      <td>0</td>\n",
       "      <td>1</td>\n",
       "      <td>0</td>\n",
       "    </tr>\n",
       "    <tr>\n",
       "      <th>23</th>\n",
       "      <td>0</td>\n",
       "      <td>0</td>\n",
       "      <td>0</td>\n",
       "      <td>1</td>\n",
       "    </tr>\n",
       "    <tr>\n",
       "      <th>24</th>\n",
       "      <td>1</td>\n",
       "      <td>0</td>\n",
       "      <td>0</td>\n",
       "      <td>0</td>\n",
       "    </tr>\n",
       "    <tr>\n",
       "      <th>25</th>\n",
       "      <td>0</td>\n",
       "      <td>1</td>\n",
       "      <td>0</td>\n",
       "      <td>0</td>\n",
       "    </tr>\n",
       "    <tr>\n",
       "      <th>26</th>\n",
       "      <td>0</td>\n",
       "      <td>0</td>\n",
       "      <td>1</td>\n",
       "      <td>0</td>\n",
       "    </tr>\n",
       "    <tr>\n",
       "      <th>27</th>\n",
       "      <td>0</td>\n",
       "      <td>0</td>\n",
       "      <td>0</td>\n",
       "      <td>1</td>\n",
       "    </tr>\n",
       "    <tr>\n",
       "      <th>28</th>\n",
       "      <td>1</td>\n",
       "      <td>0</td>\n",
       "      <td>0</td>\n",
       "      <td>0</td>\n",
       "    </tr>\n",
       "    <tr>\n",
       "      <th>29</th>\n",
       "      <td>0</td>\n",
       "      <td>1</td>\n",
       "      <td>0</td>\n",
       "      <td>0</td>\n",
       "    </tr>\n",
       "    <tr>\n",
       "      <th>30</th>\n",
       "      <td>0</td>\n",
       "      <td>0</td>\n",
       "      <td>1</td>\n",
       "      <td>0</td>\n",
       "    </tr>\n",
       "    <tr>\n",
       "      <th>31</th>\n",
       "      <td>0</td>\n",
       "      <td>0</td>\n",
       "      <td>0</td>\n",
       "      <td>1</td>\n",
       "    </tr>\n",
       "    <tr>\n",
       "      <th>32</th>\n",
       "      <td>1</td>\n",
       "      <td>0</td>\n",
       "      <td>0</td>\n",
       "      <td>0</td>\n",
       "    </tr>\n",
       "    <tr>\n",
       "      <th>33</th>\n",
       "      <td>0</td>\n",
       "      <td>1</td>\n",
       "      <td>0</td>\n",
       "      <td>0</td>\n",
       "    </tr>\n",
       "    <tr>\n",
       "      <th>34</th>\n",
       "      <td>0</td>\n",
       "      <td>0</td>\n",
       "      <td>1</td>\n",
       "      <td>0</td>\n",
       "    </tr>\n",
       "    <tr>\n",
       "      <th>35</th>\n",
       "      <td>0</td>\n",
       "      <td>0</td>\n",
       "      <td>0</td>\n",
       "      <td>1</td>\n",
       "    </tr>\n",
       "    <tr>\n",
       "      <th>36</th>\n",
       "      <td>1</td>\n",
       "      <td>0</td>\n",
       "      <td>0</td>\n",
       "      <td>0</td>\n",
       "    </tr>\n",
       "    <tr>\n",
       "      <th>37</th>\n",
       "      <td>0</td>\n",
       "      <td>1</td>\n",
       "      <td>0</td>\n",
       "      <td>0</td>\n",
       "    </tr>\n",
       "    <tr>\n",
       "      <th>38</th>\n",
       "      <td>0</td>\n",
       "      <td>0</td>\n",
       "      <td>1</td>\n",
       "      <td>0</td>\n",
       "    </tr>\n",
       "    <tr>\n",
       "      <th>39</th>\n",
       "      <td>0</td>\n",
       "      <td>0</td>\n",
       "      <td>0</td>\n",
       "      <td>1</td>\n",
       "    </tr>\n",
       "    <tr>\n",
       "      <th>40</th>\n",
       "      <td>1</td>\n",
       "      <td>0</td>\n",
       "      <td>0</td>\n",
       "      <td>0</td>\n",
       "    </tr>\n",
       "    <tr>\n",
       "      <th>41</th>\n",
       "      <td>0</td>\n",
       "      <td>1</td>\n",
       "      <td>0</td>\n",
       "      <td>0</td>\n",
       "    </tr>\n",
       "  </tbody>\n",
       "</table>\n",
       "</div>"
      ],
      "text/plain": [
       "    Q1  Q2  Q3  Q4\n",
       "0    1   0   0   0\n",
       "1    0   1   0   0\n",
       "2    0   0   1   0\n",
       "3    0   0   0   1\n",
       "4    1   0   0   0\n",
       "5    0   1   0   0\n",
       "6    0   0   1   0\n",
       "7    0   0   0   1\n",
       "8    1   0   0   0\n",
       "9    0   1   0   0\n",
       "10   0   0   1   0\n",
       "11   0   0   0   1\n",
       "12   1   0   0   0\n",
       "13   0   1   0   0\n",
       "14   0   0   1   0\n",
       "15   0   0   0   1\n",
       "16   1   0   0   0\n",
       "17   0   1   0   0\n",
       "18   0   0   1   0\n",
       "19   0   0   0   1\n",
       "20   1   0   0   0\n",
       "21   0   1   0   0\n",
       "22   0   0   1   0\n",
       "23   0   0   0   1\n",
       "24   1   0   0   0\n",
       "25   0   1   0   0\n",
       "26   0   0   1   0\n",
       "27   0   0   0   1\n",
       "28   1   0   0   0\n",
       "29   0   1   0   0\n",
       "30   0   0   1   0\n",
       "31   0   0   0   1\n",
       "32   1   0   0   0\n",
       "33   0   1   0   0\n",
       "34   0   0   1   0\n",
       "35   0   0   0   1\n",
       "36   1   0   0   0\n",
       "37   0   1   0   0\n",
       "38   0   0   1   0\n",
       "39   0   0   0   1\n",
       "40   1   0   0   0\n",
       "41   0   1   0   0"
      ]
     },
     "execution_count": 50,
     "metadata": {},
     "output_type": "execute_result"
    }
   ],
   "source": [
    "# Creat Dummies \n",
    "cola_dummies=pd.DataFrame(pd.get_dummies(cocacola['quarter']),columns=['Q1','Q2','Q3','Q4'])\n",
    "cola_dummies"
   ]
  },
  {
   "cell_type": "code",
   "execution_count": 52,
   "id": "f42d98a0",
   "metadata": {
    "ExecuteTime": {
     "end_time": "2023-04-08T05:18:32.009059Z",
     "start_time": "2023-04-08T05:18:31.968725Z"
    }
   },
   "outputs": [
    {
     "data": {
      "text/html": [
       "<div>\n",
       "<style scoped>\n",
       "    .dataframe tbody tr th:only-of-type {\n",
       "        vertical-align: middle;\n",
       "    }\n",
       "\n",
       "    .dataframe tbody tr th {\n",
       "        vertical-align: top;\n",
       "    }\n",
       "\n",
       "    .dataframe thead th {\n",
       "        text-align: right;\n",
       "    }\n",
       "</style>\n",
       "<table border=\"1\" class=\"dataframe\">\n",
       "  <thead>\n",
       "    <tr style=\"text-align: right;\">\n",
       "      <th></th>\n",
       "      <th>Quarter</th>\n",
       "      <th>Sales</th>\n",
       "      <th>quarter</th>\n",
       "      <th>Q1</th>\n",
       "      <th>Q2</th>\n",
       "      <th>Q3</th>\n",
       "      <th>Q4</th>\n",
       "    </tr>\n",
       "  </thead>\n",
       "  <tbody>\n",
       "    <tr>\n",
       "      <th>0</th>\n",
       "      <td>Q1_86</td>\n",
       "      <td>1734.827000</td>\n",
       "      <td>Q1</td>\n",
       "      <td>1</td>\n",
       "      <td>0</td>\n",
       "      <td>0</td>\n",
       "      <td>0</td>\n",
       "    </tr>\n",
       "    <tr>\n",
       "      <th>1</th>\n",
       "      <td>Q2_86</td>\n",
       "      <td>2244.960999</td>\n",
       "      <td>Q2</td>\n",
       "      <td>0</td>\n",
       "      <td>1</td>\n",
       "      <td>0</td>\n",
       "      <td>0</td>\n",
       "    </tr>\n",
       "    <tr>\n",
       "      <th>2</th>\n",
       "      <td>Q3_86</td>\n",
       "      <td>2533.804993</td>\n",
       "      <td>Q3</td>\n",
       "      <td>0</td>\n",
       "      <td>0</td>\n",
       "      <td>1</td>\n",
       "      <td>0</td>\n",
       "    </tr>\n",
       "    <tr>\n",
       "      <th>3</th>\n",
       "      <td>Q4_86</td>\n",
       "      <td>2154.962997</td>\n",
       "      <td>Q4</td>\n",
       "      <td>0</td>\n",
       "      <td>0</td>\n",
       "      <td>0</td>\n",
       "      <td>1</td>\n",
       "    </tr>\n",
       "    <tr>\n",
       "      <th>4</th>\n",
       "      <td>Q1_87</td>\n",
       "      <td>1547.818996</td>\n",
       "      <td>Q1</td>\n",
       "      <td>1</td>\n",
       "      <td>0</td>\n",
       "      <td>0</td>\n",
       "      <td>0</td>\n",
       "    </tr>\n",
       "    <tr>\n",
       "      <th>5</th>\n",
       "      <td>Q2_87</td>\n",
       "      <td>2104.411995</td>\n",
       "      <td>Q2</td>\n",
       "      <td>0</td>\n",
       "      <td>1</td>\n",
       "      <td>0</td>\n",
       "      <td>0</td>\n",
       "    </tr>\n",
       "    <tr>\n",
       "      <th>6</th>\n",
       "      <td>Q3_87</td>\n",
       "      <td>2014.362999</td>\n",
       "      <td>Q3</td>\n",
       "      <td>0</td>\n",
       "      <td>0</td>\n",
       "      <td>1</td>\n",
       "      <td>0</td>\n",
       "    </tr>\n",
       "    <tr>\n",
       "      <th>7</th>\n",
       "      <td>Q4_87</td>\n",
       "      <td>1991.746998</td>\n",
       "      <td>Q4</td>\n",
       "      <td>0</td>\n",
       "      <td>0</td>\n",
       "      <td>0</td>\n",
       "      <td>1</td>\n",
       "    </tr>\n",
       "    <tr>\n",
       "      <th>8</th>\n",
       "      <td>Q1_88</td>\n",
       "      <td>1869.049999</td>\n",
       "      <td>Q1</td>\n",
       "      <td>1</td>\n",
       "      <td>0</td>\n",
       "      <td>0</td>\n",
       "      <td>0</td>\n",
       "    </tr>\n",
       "    <tr>\n",
       "      <th>9</th>\n",
       "      <td>Q2_88</td>\n",
       "      <td>2313.631996</td>\n",
       "      <td>Q2</td>\n",
       "      <td>0</td>\n",
       "      <td>1</td>\n",
       "      <td>0</td>\n",
       "      <td>0</td>\n",
       "    </tr>\n",
       "    <tr>\n",
       "      <th>10</th>\n",
       "      <td>Q3_88</td>\n",
       "      <td>2128.320000</td>\n",
       "      <td>Q3</td>\n",
       "      <td>0</td>\n",
       "      <td>0</td>\n",
       "      <td>1</td>\n",
       "      <td>0</td>\n",
       "    </tr>\n",
       "    <tr>\n",
       "      <th>11</th>\n",
       "      <td>Q4_88</td>\n",
       "      <td>2026.828999</td>\n",
       "      <td>Q4</td>\n",
       "      <td>0</td>\n",
       "      <td>0</td>\n",
       "      <td>0</td>\n",
       "      <td>1</td>\n",
       "    </tr>\n",
       "    <tr>\n",
       "      <th>12</th>\n",
       "      <td>Q1_89</td>\n",
       "      <td>1910.603996</td>\n",
       "      <td>Q1</td>\n",
       "      <td>1</td>\n",
       "      <td>0</td>\n",
       "      <td>0</td>\n",
       "      <td>0</td>\n",
       "    </tr>\n",
       "    <tr>\n",
       "      <th>13</th>\n",
       "      <td>Q2_89</td>\n",
       "      <td>2331.164993</td>\n",
       "      <td>Q2</td>\n",
       "      <td>0</td>\n",
       "      <td>1</td>\n",
       "      <td>0</td>\n",
       "      <td>0</td>\n",
       "    </tr>\n",
       "    <tr>\n",
       "      <th>14</th>\n",
       "      <td>Q3_89</td>\n",
       "      <td>2206.549995</td>\n",
       "      <td>Q3</td>\n",
       "      <td>0</td>\n",
       "      <td>0</td>\n",
       "      <td>1</td>\n",
       "      <td>0</td>\n",
       "    </tr>\n",
       "    <tr>\n",
       "      <th>15</th>\n",
       "      <td>Q4_89</td>\n",
       "      <td>2173.967995</td>\n",
       "      <td>Q4</td>\n",
       "      <td>0</td>\n",
       "      <td>0</td>\n",
       "      <td>0</td>\n",
       "      <td>1</td>\n",
       "    </tr>\n",
       "    <tr>\n",
       "      <th>16</th>\n",
       "      <td>Q1_90</td>\n",
       "      <td>2148.278000</td>\n",
       "      <td>Q1</td>\n",
       "      <td>1</td>\n",
       "      <td>0</td>\n",
       "      <td>0</td>\n",
       "      <td>0</td>\n",
       "    </tr>\n",
       "    <tr>\n",
       "      <th>17</th>\n",
       "      <td>Q2_90</td>\n",
       "      <td>2739.307999</td>\n",
       "      <td>Q2</td>\n",
       "      <td>0</td>\n",
       "      <td>1</td>\n",
       "      <td>0</td>\n",
       "      <td>0</td>\n",
       "    </tr>\n",
       "    <tr>\n",
       "      <th>18</th>\n",
       "      <td>Q3_90</td>\n",
       "      <td>2792.753998</td>\n",
       "      <td>Q3</td>\n",
       "      <td>0</td>\n",
       "      <td>0</td>\n",
       "      <td>1</td>\n",
       "      <td>0</td>\n",
       "    </tr>\n",
       "    <tr>\n",
       "      <th>19</th>\n",
       "      <td>Q4_90</td>\n",
       "      <td>2556.009995</td>\n",
       "      <td>Q4</td>\n",
       "      <td>0</td>\n",
       "      <td>0</td>\n",
       "      <td>0</td>\n",
       "      <td>1</td>\n",
       "    </tr>\n",
       "    <tr>\n",
       "      <th>20</th>\n",
       "      <td>Q1_91</td>\n",
       "      <td>2480.973999</td>\n",
       "      <td>Q1</td>\n",
       "      <td>1</td>\n",
       "      <td>0</td>\n",
       "      <td>0</td>\n",
       "      <td>0</td>\n",
       "    </tr>\n",
       "    <tr>\n",
       "      <th>21</th>\n",
       "      <td>Q2_91</td>\n",
       "      <td>3039.522995</td>\n",
       "      <td>Q2</td>\n",
       "      <td>0</td>\n",
       "      <td>1</td>\n",
       "      <td>0</td>\n",
       "      <td>0</td>\n",
       "    </tr>\n",
       "    <tr>\n",
       "      <th>22</th>\n",
       "      <td>Q3_91</td>\n",
       "      <td>3172.115997</td>\n",
       "      <td>Q3</td>\n",
       "      <td>0</td>\n",
       "      <td>0</td>\n",
       "      <td>1</td>\n",
       "      <td>0</td>\n",
       "    </tr>\n",
       "    <tr>\n",
       "      <th>23</th>\n",
       "      <td>Q4_91</td>\n",
       "      <td>2879.000999</td>\n",
       "      <td>Q4</td>\n",
       "      <td>0</td>\n",
       "      <td>0</td>\n",
       "      <td>0</td>\n",
       "      <td>1</td>\n",
       "    </tr>\n",
       "    <tr>\n",
       "      <th>24</th>\n",
       "      <td>Q1_92</td>\n",
       "      <td>2772.000000</td>\n",
       "      <td>Q1</td>\n",
       "      <td>1</td>\n",
       "      <td>0</td>\n",
       "      <td>0</td>\n",
       "      <td>0</td>\n",
       "    </tr>\n",
       "    <tr>\n",
       "      <th>25</th>\n",
       "      <td>Q2_92</td>\n",
       "      <td>3550.000000</td>\n",
       "      <td>Q2</td>\n",
       "      <td>0</td>\n",
       "      <td>1</td>\n",
       "      <td>0</td>\n",
       "      <td>0</td>\n",
       "    </tr>\n",
       "    <tr>\n",
       "      <th>26</th>\n",
       "      <td>Q3_92</td>\n",
       "      <td>3508.000000</td>\n",
       "      <td>Q3</td>\n",
       "      <td>0</td>\n",
       "      <td>0</td>\n",
       "      <td>1</td>\n",
       "      <td>0</td>\n",
       "    </tr>\n",
       "    <tr>\n",
       "      <th>27</th>\n",
       "      <td>Q4_92</td>\n",
       "      <td>3243.859993</td>\n",
       "      <td>Q4</td>\n",
       "      <td>0</td>\n",
       "      <td>0</td>\n",
       "      <td>0</td>\n",
       "      <td>1</td>\n",
       "    </tr>\n",
       "    <tr>\n",
       "      <th>28</th>\n",
       "      <td>Q1_93</td>\n",
       "      <td>3056.000000</td>\n",
       "      <td>Q1</td>\n",
       "      <td>1</td>\n",
       "      <td>0</td>\n",
       "      <td>0</td>\n",
       "      <td>0</td>\n",
       "    </tr>\n",
       "    <tr>\n",
       "      <th>29</th>\n",
       "      <td>Q2_93</td>\n",
       "      <td>3899.000000</td>\n",
       "      <td>Q2</td>\n",
       "      <td>0</td>\n",
       "      <td>1</td>\n",
       "      <td>0</td>\n",
       "      <td>0</td>\n",
       "    </tr>\n",
       "    <tr>\n",
       "      <th>30</th>\n",
       "      <td>Q3_93</td>\n",
       "      <td>3629.000000</td>\n",
       "      <td>Q3</td>\n",
       "      <td>0</td>\n",
       "      <td>0</td>\n",
       "      <td>1</td>\n",
       "      <td>0</td>\n",
       "    </tr>\n",
       "    <tr>\n",
       "      <th>31</th>\n",
       "      <td>Q4_93</td>\n",
       "      <td>3373.000000</td>\n",
       "      <td>Q4</td>\n",
       "      <td>0</td>\n",
       "      <td>0</td>\n",
       "      <td>0</td>\n",
       "      <td>1</td>\n",
       "    </tr>\n",
       "    <tr>\n",
       "      <th>32</th>\n",
       "      <td>Q1_94</td>\n",
       "      <td>3352.000000</td>\n",
       "      <td>Q1</td>\n",
       "      <td>1</td>\n",
       "      <td>0</td>\n",
       "      <td>0</td>\n",
       "      <td>0</td>\n",
       "    </tr>\n",
       "    <tr>\n",
       "      <th>33</th>\n",
       "      <td>Q2_94</td>\n",
       "      <td>4342.000000</td>\n",
       "      <td>Q2</td>\n",
       "      <td>0</td>\n",
       "      <td>1</td>\n",
       "      <td>0</td>\n",
       "      <td>0</td>\n",
       "    </tr>\n",
       "    <tr>\n",
       "      <th>34</th>\n",
       "      <td>Q3_94</td>\n",
       "      <td>4461.000000</td>\n",
       "      <td>Q3</td>\n",
       "      <td>0</td>\n",
       "      <td>0</td>\n",
       "      <td>1</td>\n",
       "      <td>0</td>\n",
       "    </tr>\n",
       "    <tr>\n",
       "      <th>35</th>\n",
       "      <td>Q4_94</td>\n",
       "      <td>4017.000000</td>\n",
       "      <td>Q4</td>\n",
       "      <td>0</td>\n",
       "      <td>0</td>\n",
       "      <td>0</td>\n",
       "      <td>1</td>\n",
       "    </tr>\n",
       "    <tr>\n",
       "      <th>36</th>\n",
       "      <td>Q1_95</td>\n",
       "      <td>3854.000000</td>\n",
       "      <td>Q1</td>\n",
       "      <td>1</td>\n",
       "      <td>0</td>\n",
       "      <td>0</td>\n",
       "      <td>0</td>\n",
       "    </tr>\n",
       "    <tr>\n",
       "      <th>37</th>\n",
       "      <td>Q2_95</td>\n",
       "      <td>4936.000000</td>\n",
       "      <td>Q2</td>\n",
       "      <td>0</td>\n",
       "      <td>1</td>\n",
       "      <td>0</td>\n",
       "      <td>0</td>\n",
       "    </tr>\n",
       "    <tr>\n",
       "      <th>38</th>\n",
       "      <td>Q3_95</td>\n",
       "      <td>4895.000000</td>\n",
       "      <td>Q3</td>\n",
       "      <td>0</td>\n",
       "      <td>0</td>\n",
       "      <td>1</td>\n",
       "      <td>0</td>\n",
       "    </tr>\n",
       "    <tr>\n",
       "      <th>39</th>\n",
       "      <td>Q4_95</td>\n",
       "      <td>4333.000000</td>\n",
       "      <td>Q4</td>\n",
       "      <td>0</td>\n",
       "      <td>0</td>\n",
       "      <td>0</td>\n",
       "      <td>1</td>\n",
       "    </tr>\n",
       "    <tr>\n",
       "      <th>40</th>\n",
       "      <td>Q1_96</td>\n",
       "      <td>4194.000000</td>\n",
       "      <td>Q1</td>\n",
       "      <td>1</td>\n",
       "      <td>0</td>\n",
       "      <td>0</td>\n",
       "      <td>0</td>\n",
       "    </tr>\n",
       "    <tr>\n",
       "      <th>41</th>\n",
       "      <td>Q2_96</td>\n",
       "      <td>5253.000000</td>\n",
       "      <td>Q2</td>\n",
       "      <td>0</td>\n",
       "      <td>1</td>\n",
       "      <td>0</td>\n",
       "      <td>0</td>\n",
       "    </tr>\n",
       "  </tbody>\n",
       "</table>\n",
       "</div>"
      ],
      "text/plain": [
       "   Quarter        Sales quarter  Q1  Q2  Q3  Q4\n",
       "0    Q1_86  1734.827000      Q1   1   0   0   0\n",
       "1    Q2_86  2244.960999      Q2   0   1   0   0\n",
       "2    Q3_86  2533.804993      Q3   0   0   1   0\n",
       "3    Q4_86  2154.962997      Q4   0   0   0   1\n",
       "4    Q1_87  1547.818996      Q1   1   0   0   0\n",
       "5    Q2_87  2104.411995      Q2   0   1   0   0\n",
       "6    Q3_87  2014.362999      Q3   0   0   1   0\n",
       "7    Q4_87  1991.746998      Q4   0   0   0   1\n",
       "8    Q1_88  1869.049999      Q1   1   0   0   0\n",
       "9    Q2_88  2313.631996      Q2   0   1   0   0\n",
       "10   Q3_88  2128.320000      Q3   0   0   1   0\n",
       "11   Q4_88  2026.828999      Q4   0   0   0   1\n",
       "12   Q1_89  1910.603996      Q1   1   0   0   0\n",
       "13   Q2_89  2331.164993      Q2   0   1   0   0\n",
       "14   Q3_89  2206.549995      Q3   0   0   1   0\n",
       "15   Q4_89  2173.967995      Q4   0   0   0   1\n",
       "16   Q1_90  2148.278000      Q1   1   0   0   0\n",
       "17   Q2_90  2739.307999      Q2   0   1   0   0\n",
       "18   Q3_90  2792.753998      Q3   0   0   1   0\n",
       "19   Q4_90  2556.009995      Q4   0   0   0   1\n",
       "20   Q1_91  2480.973999      Q1   1   0   0   0\n",
       "21   Q2_91  3039.522995      Q2   0   1   0   0\n",
       "22   Q3_91  3172.115997      Q3   0   0   1   0\n",
       "23   Q4_91  2879.000999      Q4   0   0   0   1\n",
       "24   Q1_92  2772.000000      Q1   1   0   0   0\n",
       "25   Q2_92  3550.000000      Q2   0   1   0   0\n",
       "26   Q3_92  3508.000000      Q3   0   0   1   0\n",
       "27   Q4_92  3243.859993      Q4   0   0   0   1\n",
       "28   Q1_93  3056.000000      Q1   1   0   0   0\n",
       "29   Q2_93  3899.000000      Q2   0   1   0   0\n",
       "30   Q3_93  3629.000000      Q3   0   0   1   0\n",
       "31   Q4_93  3373.000000      Q4   0   0   0   1\n",
       "32   Q1_94  3352.000000      Q1   1   0   0   0\n",
       "33   Q2_94  4342.000000      Q2   0   1   0   0\n",
       "34   Q3_94  4461.000000      Q3   0   0   1   0\n",
       "35   Q4_94  4017.000000      Q4   0   0   0   1\n",
       "36   Q1_95  3854.000000      Q1   1   0   0   0\n",
       "37   Q2_95  4936.000000      Q2   0   1   0   0\n",
       "38   Q3_95  4895.000000      Q3   0   0   1   0\n",
       "39   Q4_95  4333.000000      Q4   0   0   0   1\n",
       "40   Q1_96  4194.000000      Q1   1   0   0   0\n",
       "41   Q2_96  5253.000000      Q2   0   1   0   0"
      ]
     },
     "execution_count": 52,
     "metadata": {},
     "output_type": "execute_result"
    }
   ],
   "source": [
    "dummies=pd.concat([cocacola,cola_dummies],axis= 1)\n",
    "dummies"
   ]
  },
  {
   "cell_type": "code",
   "execution_count": 54,
   "id": "3ff4f537",
   "metadata": {
    "ExecuteTime": {
     "end_time": "2023-04-08T05:22:16.389988Z",
     "start_time": "2023-04-08T05:22:16.366363Z"
    }
   },
   "outputs": [
    {
     "data": {
      "text/plain": [
       "0        1\n",
       "1        4\n",
       "2        9\n",
       "3       16\n",
       "4       25\n",
       "5       36\n",
       "6       49\n",
       "7       64\n",
       "8       81\n",
       "9      100\n",
       "10     121\n",
       "11     144\n",
       "12     169\n",
       "13     196\n",
       "14     225\n",
       "15     256\n",
       "16     289\n",
       "17     324\n",
       "18     361\n",
       "19     400\n",
       "20     441\n",
       "21     484\n",
       "22     529\n",
       "23     576\n",
       "24     625\n",
       "25     676\n",
       "26     729\n",
       "27     784\n",
       "28     841\n",
       "29     900\n",
       "30     961\n",
       "31    1024\n",
       "32    1089\n",
       "33    1156\n",
       "34    1225\n",
       "35    1296\n",
       "36    1369\n",
       "37    1444\n",
       "38    1521\n",
       "39    1600\n",
       "40    1681\n",
       "41    1764\n",
       "Name: t_squared, dtype: int32"
      ]
     },
     "execution_count": 54,
     "metadata": {},
     "output_type": "execute_result"
    }
   ],
   "source": [
    "dummies['t'] = np.arange(1,43)\n",
    "dummies['t_squared'] = dummies['t']**2\n",
    "dummies['t_squared']"
   ]
  },
  {
   "cell_type": "code",
   "execution_count": 55,
   "id": "13a8b071",
   "metadata": {
    "ExecuteTime": {
     "end_time": "2023-04-08T05:22:51.627916Z",
     "start_time": "2023-04-08T05:22:51.594988Z"
    }
   },
   "outputs": [
    {
     "data": {
      "text/plain": [
       "0     7.458663\n",
       "1     7.716443\n",
       "2     7.837477\n",
       "3     7.675529\n",
       "4     7.344602\n",
       "5     7.651791\n",
       "6     7.608058\n",
       "7     7.596767\n",
       "8     7.533186\n",
       "9     7.746574\n",
       "10    7.663088\n",
       "11    7.614228\n",
       "12    7.555175\n",
       "13    7.754123\n",
       "14    7.699185\n",
       "15    7.684309\n",
       "16    7.672422\n",
       "17    7.915461\n",
       "18    7.934783\n",
       "19    7.846203\n",
       "20    7.816407\n",
       "21    8.019456\n",
       "22    8.062154\n",
       "23    7.965199\n",
       "24    7.927324\n",
       "25    8.174703\n",
       "26    8.162801\n",
       "27    8.084519\n",
       "28    8.024862\n",
       "29    8.268475\n",
       "30    8.196712\n",
       "31    8.123558\n",
       "32    8.117312\n",
       "33    8.376090\n",
       "34    8.403128\n",
       "35    8.298291\n",
       "36    8.256867\n",
       "37    8.504311\n",
       "38    8.495970\n",
       "39    8.374015\n",
       "40    8.341410\n",
       "41    8.566555\n",
       "Name: Sales_log, dtype: float64"
      ]
     },
     "execution_count": 55,
     "metadata": {},
     "output_type": "execute_result"
    }
   ],
   "source": [
    "dummies[\"Sales_log\"] =np.log(df['Sales'])\n",
    "dummies[\"Sales_log\"]"
   ]
  },
  {
   "cell_type": "code",
   "execution_count": 56,
   "id": "addeb3f3",
   "metadata": {
    "ExecuteTime": {
     "end_time": "2023-04-08T05:25:22.811390Z",
     "start_time": "2023-04-08T05:25:22.786225Z"
    }
   },
   "outputs": [
    {
     "data": {
      "text/html": [
       "<div>\n",
       "<style scoped>\n",
       "    .dataframe tbody tr th:only-of-type {\n",
       "        vertical-align: middle;\n",
       "    }\n",
       "\n",
       "    .dataframe tbody tr th {\n",
       "        vertical-align: top;\n",
       "    }\n",
       "\n",
       "    .dataframe thead th {\n",
       "        text-align: right;\n",
       "    }\n",
       "</style>\n",
       "<table border=\"1\" class=\"dataframe\">\n",
       "  <thead>\n",
       "    <tr style=\"text-align: right;\">\n",
       "      <th></th>\n",
       "      <th>Quarter</th>\n",
       "      <th>Sales</th>\n",
       "      <th>quarter</th>\n",
       "      <th>Q1</th>\n",
       "      <th>Q2</th>\n",
       "      <th>Q3</th>\n",
       "      <th>Q4</th>\n",
       "      <th>t</th>\n",
       "      <th>t_squared</th>\n",
       "      <th>Sales_log</th>\n",
       "    </tr>\n",
       "  </thead>\n",
       "  <tbody>\n",
       "    <tr>\n",
       "      <th>0</th>\n",
       "      <td>Q1_86</td>\n",
       "      <td>1734.827000</td>\n",
       "      <td>Q1</td>\n",
       "      <td>1</td>\n",
       "      <td>0</td>\n",
       "      <td>0</td>\n",
       "      <td>0</td>\n",
       "      <td>1</td>\n",
       "      <td>1</td>\n",
       "      <td>7.458663</td>\n",
       "    </tr>\n",
       "    <tr>\n",
       "      <th>1</th>\n",
       "      <td>Q2_86</td>\n",
       "      <td>2244.960999</td>\n",
       "      <td>Q2</td>\n",
       "      <td>0</td>\n",
       "      <td>1</td>\n",
       "      <td>0</td>\n",
       "      <td>0</td>\n",
       "      <td>2</td>\n",
       "      <td>4</td>\n",
       "      <td>7.716443</td>\n",
       "    </tr>\n",
       "    <tr>\n",
       "      <th>2</th>\n",
       "      <td>Q3_86</td>\n",
       "      <td>2533.804993</td>\n",
       "      <td>Q3</td>\n",
       "      <td>0</td>\n",
       "      <td>0</td>\n",
       "      <td>1</td>\n",
       "      <td>0</td>\n",
       "      <td>3</td>\n",
       "      <td>9</td>\n",
       "      <td>7.837477</td>\n",
       "    </tr>\n",
       "    <tr>\n",
       "      <th>3</th>\n",
       "      <td>Q4_86</td>\n",
       "      <td>2154.962997</td>\n",
       "      <td>Q4</td>\n",
       "      <td>0</td>\n",
       "      <td>0</td>\n",
       "      <td>0</td>\n",
       "      <td>1</td>\n",
       "      <td>4</td>\n",
       "      <td>16</td>\n",
       "      <td>7.675529</td>\n",
       "    </tr>\n",
       "    <tr>\n",
       "      <th>4</th>\n",
       "      <td>Q1_87</td>\n",
       "      <td>1547.818996</td>\n",
       "      <td>Q1</td>\n",
       "      <td>1</td>\n",
       "      <td>0</td>\n",
       "      <td>0</td>\n",
       "      <td>0</td>\n",
       "      <td>5</td>\n",
       "      <td>25</td>\n",
       "      <td>7.344602</td>\n",
       "    </tr>\n",
       "  </tbody>\n",
       "</table>\n",
       "</div>"
      ],
      "text/plain": [
       "  Quarter        Sales quarter  Q1  Q2  Q3  Q4  t  t_squared  Sales_log\n",
       "0   Q1_86  1734.827000      Q1   1   0   0   0  1          1   7.458663\n",
       "1   Q2_86  2244.960999      Q2   0   1   0   0  2          4   7.716443\n",
       "2   Q3_86  2533.804993      Q3   0   0   1   0  3          9   7.837477\n",
       "3   Q4_86  2154.962997      Q4   0   0   0   1  4         16   7.675529\n",
       "4   Q1_87  1547.818996      Q1   1   0   0   0  5         25   7.344602"
      ]
     },
     "execution_count": 56,
     "metadata": {},
     "output_type": "execute_result"
    }
   ],
   "source": [
    "dummies.head()"
   ]
  },
  {
   "cell_type": "code",
   "execution_count": 58,
   "id": "dd4dd7d1",
   "metadata": {
    "ExecuteTime": {
     "end_time": "2023-04-08T05:25:36.697794Z",
     "start_time": "2023-04-08T05:25:36.670931Z"
    }
   },
   "outputs": [
    {
     "data": {
      "text/html": [
       "<div>\n",
       "<style scoped>\n",
       "    .dataframe tbody tr th:only-of-type {\n",
       "        vertical-align: middle;\n",
       "    }\n",
       "\n",
       "    .dataframe tbody tr th {\n",
       "        vertical-align: top;\n",
       "    }\n",
       "\n",
       "    .dataframe thead th {\n",
       "        text-align: right;\n",
       "    }\n",
       "</style>\n",
       "<table border=\"1\" class=\"dataframe\">\n",
       "  <thead>\n",
       "    <tr style=\"text-align: right;\">\n",
       "      <th></th>\n",
       "      <th>Quarter</th>\n",
       "      <th>Sales</th>\n",
       "      <th>quarter</th>\n",
       "      <th>Q1</th>\n",
       "      <th>Q2</th>\n",
       "      <th>Q3</th>\n",
       "      <th>Q4</th>\n",
       "      <th>t</th>\n",
       "      <th>t_squared</th>\n",
       "      <th>Sales_log</th>\n",
       "    </tr>\n",
       "  </thead>\n",
       "  <tbody>\n",
       "    <tr>\n",
       "      <th>37</th>\n",
       "      <td>Q2_95</td>\n",
       "      <td>4936.0</td>\n",
       "      <td>Q2</td>\n",
       "      <td>0</td>\n",
       "      <td>1</td>\n",
       "      <td>0</td>\n",
       "      <td>0</td>\n",
       "      <td>38</td>\n",
       "      <td>1444</td>\n",
       "      <td>8.504311</td>\n",
       "    </tr>\n",
       "    <tr>\n",
       "      <th>38</th>\n",
       "      <td>Q3_95</td>\n",
       "      <td>4895.0</td>\n",
       "      <td>Q3</td>\n",
       "      <td>0</td>\n",
       "      <td>0</td>\n",
       "      <td>1</td>\n",
       "      <td>0</td>\n",
       "      <td>39</td>\n",
       "      <td>1521</td>\n",
       "      <td>8.495970</td>\n",
       "    </tr>\n",
       "    <tr>\n",
       "      <th>39</th>\n",
       "      <td>Q4_95</td>\n",
       "      <td>4333.0</td>\n",
       "      <td>Q4</td>\n",
       "      <td>0</td>\n",
       "      <td>0</td>\n",
       "      <td>0</td>\n",
       "      <td>1</td>\n",
       "      <td>40</td>\n",
       "      <td>1600</td>\n",
       "      <td>8.374015</td>\n",
       "    </tr>\n",
       "    <tr>\n",
       "      <th>40</th>\n",
       "      <td>Q1_96</td>\n",
       "      <td>4194.0</td>\n",
       "      <td>Q1</td>\n",
       "      <td>1</td>\n",
       "      <td>0</td>\n",
       "      <td>0</td>\n",
       "      <td>0</td>\n",
       "      <td>41</td>\n",
       "      <td>1681</td>\n",
       "      <td>8.341410</td>\n",
       "    </tr>\n",
       "    <tr>\n",
       "      <th>41</th>\n",
       "      <td>Q2_96</td>\n",
       "      <td>5253.0</td>\n",
       "      <td>Q2</td>\n",
       "      <td>0</td>\n",
       "      <td>1</td>\n",
       "      <td>0</td>\n",
       "      <td>0</td>\n",
       "      <td>42</td>\n",
       "      <td>1764</td>\n",
       "      <td>8.566555</td>\n",
       "    </tr>\n",
       "  </tbody>\n",
       "</table>\n",
       "</div>"
      ],
      "text/plain": [
       "   Quarter   Sales quarter  Q1  Q2  Q3  Q4   t  t_squared  Sales_log\n",
       "37   Q2_95  4936.0      Q2   0   1   0   0  38       1444   8.504311\n",
       "38   Q3_95  4895.0      Q3   0   0   1   0  39       1521   8.495970\n",
       "39   Q4_95  4333.0      Q4   0   0   0   1  40       1600   8.374015\n",
       "40   Q1_96  4194.0      Q1   1   0   0   0  41       1681   8.341410\n",
       "41   Q2_96  5253.0      Q2   0   1   0   0  42       1764   8.566555"
      ]
     },
     "execution_count": 58,
     "metadata": {},
     "output_type": "execute_result"
    }
   ],
   "source": [
    "dummies.tail()"
   ]
  },
  {
   "cell_type": "code",
   "execution_count": 59,
   "id": "8c78b129",
   "metadata": {
    "ExecuteTime": {
     "end_time": "2023-04-08T05:28:10.338041Z",
     "start_time": "2023-04-08T05:28:10.299563Z"
    }
   },
   "outputs": [
    {
     "name": "stdout",
     "output_type": "stream",
     "text": [
      "   Quarter        Sales quarter  Q1  Q2  Q3  Q4   t  t_squared  Sales_log\n",
      "0    Q1_86  1734.827000      Q1   1   0   0   0   1          1   7.458663\n",
      "1    Q2_86  2244.960999      Q2   0   1   0   0   2          4   7.716443\n",
      "2    Q3_86  2533.804993      Q3   0   0   1   0   3          9   7.837477\n",
      "3    Q4_86  2154.962997      Q4   0   0   0   1   4         16   7.675529\n",
      "4    Q1_87  1547.818996      Q1   1   0   0   0   5         25   7.344602\n",
      "5    Q2_87  2104.411995      Q2   0   1   0   0   6         36   7.651791\n",
      "6    Q3_87  2014.362999      Q3   0   0   1   0   7         49   7.608058\n",
      "7    Q4_87  1991.746998      Q4   0   0   0   1   8         64   7.596767\n",
      "8    Q1_88  1869.049999      Q1   1   0   0   0   9         81   7.533186\n",
      "9    Q2_88  2313.631996      Q2   0   1   0   0  10        100   7.746574\n",
      "10   Q3_88  2128.320000      Q3   0   0   1   0  11        121   7.663088\n",
      "11   Q4_88  2026.828999      Q4   0   0   0   1  12        144   7.614228\n",
      "12   Q1_89  1910.603996      Q1   1   0   0   0  13        169   7.555175\n",
      "13   Q2_89  2331.164993      Q2   0   1   0   0  14        196   7.754123\n",
      "14   Q3_89  2206.549995      Q3   0   0   1   0  15        225   7.699185\n",
      "15   Q4_89  2173.967995      Q4   0   0   0   1  16        256   7.684309\n",
      "16   Q1_90  2148.278000      Q1   1   0   0   0  17        289   7.672422\n",
      "17   Q2_90  2739.307999      Q2   0   1   0   0  18        324   7.915461\n",
      "18   Q3_90  2792.753998      Q3   0   0   1   0  19        361   7.934783\n",
      "19   Q4_90  2556.009995      Q4   0   0   0   1  20        400   7.846203\n",
      "20   Q1_91  2480.973999      Q1   1   0   0   0  21        441   7.816407\n",
      "21   Q2_91  3039.522995      Q2   0   1   0   0  22        484   8.019456\n",
      "22   Q3_91  3172.115997      Q3   0   0   1   0  23        529   8.062154\n",
      "23   Q4_91  2879.000999      Q4   0   0   0   1  24        576   7.965199\n",
      "24   Q1_92  2772.000000      Q1   1   0   0   0  25        625   7.927324\n",
      "25   Q2_92  3550.000000      Q2   0   1   0   0  26        676   8.174703\n",
      "26   Q3_92  3508.000000      Q3   0   0   1   0  27        729   8.162801\n",
      "27   Q4_92  3243.859993      Q4   0   0   0   1  28        784   8.084519\n",
      "28   Q1_93  3056.000000      Q1   1   0   0   0  29        841   8.024862\n",
      "29   Q2_93  3899.000000      Q2   0   1   0   0  30        900   8.268475\n",
      "30   Q3_93  3629.000000      Q3   0   0   1   0  31        961   8.196712\n",
      "31   Q4_93  3373.000000      Q4   0   0   0   1  32       1024   8.123558    Quarter   Sales quarter  Q1  Q2  Q3  Q4   t  t_squared  Sales_log\n",
      "32   Q1_94  3352.0      Q1   1   0   0   0  33       1089   8.117312\n",
      "33   Q2_94  4342.0      Q2   0   1   0   0  34       1156   8.376090\n",
      "34   Q3_94  4461.0      Q3   0   0   1   0  35       1225   8.403128\n",
      "35   Q4_94  4017.0      Q4   0   0   0   1  36       1296   8.298291\n",
      "36   Q1_95  3854.0      Q1   1   0   0   0  37       1369   8.256867\n",
      "37   Q2_95  4936.0      Q2   0   1   0   0  38       1444   8.504311\n",
      "38   Q3_95  4895.0      Q3   0   0   1   0  39       1521   8.495970\n",
      "39   Q4_95  4333.0      Q4   0   0   0   1  40       1600   8.374015\n",
      "40   Q1_96  4194.0      Q1   1   0   0   0  41       1681   8.341410\n",
      "41   Q2_96  5253.0      Q2   0   1   0   0  42       1764   8.566555\n"
     ]
    }
   ],
   "source": [
    "# Split the data into train and test \n",
    "train =dummies.head(32)\n",
    "test =dummies.tail(10)\n",
    "print(train,test)"
   ]
  },
  {
   "cell_type": "code",
   "execution_count": 65,
   "id": "66d164f4",
   "metadata": {
    "ExecuteTime": {
     "end_time": "2023-04-08T05:34:09.728210Z",
     "start_time": "2023-04-08T05:34:09.702723Z"
    },
    "scrolled": true
   },
   "outputs": [
    {
     "data": {
      "text/plain": [
       "<statsmodels.regression.linear_model.RegressionResultsWrapper at 0x1f988a7caf0>"
      ]
     },
     "execution_count": 65,
     "metadata": {},
     "output_type": "execute_result"
    }
   ],
   "source": [
    "# Build the models\n",
    "import statsmodels.formula.api as smf\n",
    "from sklearn.metrics import mean_squared_error\n",
    "# fit Linear_Model(lr)\n",
    "lr_model =smf.ols(\"Sales~t\",data =train).fit()\n",
    "lr_model"
   ]
  },
  {
   "cell_type": "code",
   "execution_count": 67,
   "id": "c358c4b4",
   "metadata": {
    "ExecuteTime": {
     "end_time": "2023-04-08T05:34:21.716447Z",
     "start_time": "2023-04-08T05:34:21.694107Z"
    }
   },
   "outputs": [
    {
     "data": {
      "text/plain": [
       "32    3504.086233\n",
       "33    3560.913734\n",
       "34    3617.741235\n",
       "35    3674.568736\n",
       "36    3731.396237\n",
       "37    3788.223738\n",
       "38    3845.051239\n",
       "39    3901.878740\n",
       "40    3958.706241\n",
       "41    4015.533742\n",
       "dtype: float64"
      ]
     },
     "execution_count": 67,
     "metadata": {},
     "output_type": "execute_result"
    }
   ],
   "source": [
    "# predictions\n",
    "lr_pred = pd.Series(lr_model.predict(test['t']))\n",
    "lr_pred"
   ]
  },
  {
   "cell_type": "code",
   "execution_count": 68,
   "id": "c27b345e",
   "metadata": {
    "ExecuteTime": {
     "end_time": "2023-04-08T05:36:04.386495Z",
     "start_time": "2023-04-08T05:36:04.364420Z"
    }
   },
   "outputs": [
    {
     "data": {
      "text/plain": [
       "752.9233932767121"
      ]
     },
     "execution_count": 68,
     "metadata": {},
     "output_type": "execute_result"
    }
   ],
   "source": [
    "# Root_Mean_Square_Error(rmse)\n",
    "lr_rmse =np.sqrt(mean_squared_error(np.array(test['Sales']),np.array(lr_pred)))\n",
    "lr_rmse"
   ]
  },
  {
   "cell_type": "code",
   "execution_count": 69,
   "id": "bc959cd4",
   "metadata": {
    "ExecuteTime": {
     "end_time": "2023-04-08T05:37:55.356093Z",
     "start_time": "2023-04-08T05:37:55.319964Z"
    }
   },
   "outputs": [
    {
     "data": {
      "text/plain": [
       "<statsmodels.regression.linear_model.RegressionResultsWrapper at 0x1f983bf9990>"
      ]
     },
     "execution_count": 69,
     "metadata": {},
     "output_type": "execute_result"
    }
   ],
   "source": [
    "# fit Quadratic_Model(qm)\n",
    "q_model =smf.ols(\"Sales~t+t_squared\",data=train).fit()\n",
    "q_model"
   ]
  },
  {
   "cell_type": "code",
   "execution_count": 70,
   "id": "1d070656",
   "metadata": {
    "ExecuteTime": {
     "end_time": "2023-04-08T05:38:44.046726Z",
     "start_time": "2023-04-08T05:38:44.006636Z"
    }
   },
   "outputs": [
    {
     "data": {
      "text/plain": [
       "32    3899.007943\n",
       "33    4027.639391\n",
       "34    4160.494601\n",
       "35    4297.573572\n",
       "36    4438.876305\n",
       "37    4584.402800\n",
       "38    4734.153056\n",
       "39    4888.127074\n",
       "40    5046.324854\n",
       "41    5208.746395\n",
       "dtype: float64"
      ]
     },
     "execution_count": 70,
     "metadata": {},
     "output_type": "execute_result"
    }
   ],
   "source": [
    "# Quadratic_Model(qm) predictions\n",
    "q_pred = pd.Series(q_model.predict(test[['t','t_squared']]))\n",
    "q_pred"
   ]
  },
  {
   "cell_type": "code",
   "execution_count": 71,
   "id": "54a5e0ec",
   "metadata": {
    "ExecuteTime": {
     "end_time": "2023-04-08T05:39:17.808091Z",
     "start_time": "2023-04-08T05:39:17.792452Z"
    }
   },
   "outputs": [
    {
     "data": {
      "text/plain": [
       "457.73573554073874"
      ]
     },
     "execution_count": 71,
     "metadata": {},
     "output_type": "execute_result"
    }
   ],
   "source": [
    "# Root_Mean_Square_Error(rmse)\n",
    "q_rmse =np.sqrt(mean_squared_error(np.array(test['Sales']),np.array(q_pred)))\n",
    "q_rmse"
   ]
  },
  {
   "cell_type": "code",
   "execution_count": 73,
   "id": "9a23e672",
   "metadata": {
    "ExecuteTime": {
     "end_time": "2023-04-08T05:40:03.486098Z",
     "start_time": "2023-04-08T05:40:03.452889Z"
    }
   },
   "outputs": [
    {
     "data": {
      "text/plain": [
       "32    8.182657\n",
       "33    8.204457\n",
       "34    8.226258\n",
       "35    8.248059\n",
       "36    8.269860\n",
       "37    8.291660\n",
       "38    8.313461\n",
       "39    8.335262\n",
       "40    8.357062\n",
       "41    8.378863\n",
       "dtype: float64"
      ]
     },
     "execution_count": 73,
     "metadata": {},
     "output_type": "execute_result"
    }
   ],
   "source": [
    "# fit Exponential model and predictions\n",
    "exp_model  =smf.ols(\"Sales_log~t\",data=train).fit()\n",
    "exp_pred =pd.Series(exp_model.predict(test['t']))\n",
    "exp_pred"
   ]
  },
  {
   "cell_type": "code",
   "execution_count": 74,
   "id": "30e9a3cb",
   "metadata": {
    "ExecuteTime": {
     "end_time": "2023-04-08T05:40:20.377181Z",
     "start_time": "2023-04-08T05:40:20.360966Z"
    }
   },
   "outputs": [
    {
     "data": {
      "text/plain": [
       "4387.940544839098"
      ]
     },
     "execution_count": 74,
     "metadata": {},
     "output_type": "execute_result"
    }
   ],
   "source": [
    "# Root_Mean_Square_Error(rmse)\n",
    "exp_rmse =np.sqrt(mean_squared_error(np.array(test['Sales']),np.array(exp_pred)))\n",
    "exp_rmse"
   ]
  },
  {
   "cell_type": "code",
   "execution_count": 85,
   "id": "38c801b6",
   "metadata": {
    "ExecuteTime": {
     "end_time": "2023-04-08T05:46:07.911720Z",
     "start_time": "2023-04-08T05:46:07.895433Z"
    }
   },
   "outputs": [
    {
     "name": "stdout",
     "output_type": "stream",
     "text": [
      "752.923 457.736 4387.941\n"
     ]
    }
   ],
   "source": [
    "print(lr_rmse.round(3),\n",
    "      q_rmse.round(3),\n",
    "      exp_rmse.round(3))  "
   ]
  },
  {
   "cell_type": "code",
   "execution_count": 87,
   "id": "bfa9d7a7",
   "metadata": {
    "ExecuteTime": {
     "end_time": "2023-04-08T05:48:05.733869Z",
     "start_time": "2023-04-08T05:48:05.712977Z"
    }
   },
   "outputs": [
    {
     "data": {
      "text/plain": [
       "{'MODEL': 0    linear_rmse\n",
       " 1       exp_rmse\n",
       " 2      quad_rmse\n",
       " dtype: object,\n",
       " 'RMSE_Values': 0     752.923393\n",
       " 1    4387.940545\n",
       " 2     457.735736\n",
       " dtype: float64}"
      ]
     },
     "execution_count": 87,
     "metadata": {},
     "output_type": "execute_result"
    }
   ],
   "source": [
    "data = {\"MODEL\":pd.Series([\"linear_rmse\",\"exp_rmse\",\"quad_rmse\"]),\n",
    "        \"RMSE_Values\":pd.Series([lr_rmse,exp_rmse,q_rmse,])}\n",
    "data"
   ]
  },
  {
   "cell_type": "code",
   "execution_count": 88,
   "id": "18a6029e",
   "metadata": {
    "ExecuteTime": {
     "end_time": "2023-04-08T05:48:22.600735Z",
     "start_time": "2023-04-08T05:48:22.577018Z"
    }
   },
   "outputs": [
    {
     "data": {
      "text/html": [
       "<div>\n",
       "<style scoped>\n",
       "    .dataframe tbody tr th:only-of-type {\n",
       "        vertical-align: middle;\n",
       "    }\n",
       "\n",
       "    .dataframe tbody tr th {\n",
       "        vertical-align: top;\n",
       "    }\n",
       "\n",
       "    .dataframe thead th {\n",
       "        text-align: right;\n",
       "    }\n",
       "</style>\n",
       "<table border=\"1\" class=\"dataframe\">\n",
       "  <thead>\n",
       "    <tr style=\"text-align: right;\">\n",
       "      <th></th>\n",
       "      <th>MODEL</th>\n",
       "      <th>RMSE_Values</th>\n",
       "    </tr>\n",
       "  </thead>\n",
       "  <tbody>\n",
       "    <tr>\n",
       "      <th>0</th>\n",
       "      <td>linear_rmse</td>\n",
       "      <td>752.923393</td>\n",
       "    </tr>\n",
       "    <tr>\n",
       "      <th>1</th>\n",
       "      <td>exp_rmse</td>\n",
       "      <td>4387.940545</td>\n",
       "    </tr>\n",
       "    <tr>\n",
       "      <th>2</th>\n",
       "      <td>quad_rmse</td>\n",
       "      <td>457.735736</td>\n",
       "    </tr>\n",
       "  </tbody>\n",
       "</table>\n",
       "</div>"
      ],
      "text/plain": [
       "         MODEL  RMSE_Values\n",
       "0  linear_rmse   752.923393\n",
       "1     exp_rmse  4387.940545\n",
       "2    quad_rmse   457.735736"
      ]
     },
     "execution_count": 88,
     "metadata": {},
     "output_type": "execute_result"
    }
   ],
   "source": [
    "table_rmse=pd.DataFrame(data)\n",
    "table_rmse"
   ]
  },
  {
   "cell_type": "code",
   "execution_count": 122,
   "id": "bd115e1b",
   "metadata": {
    "ExecuteTime": {
     "end_time": "2023-04-08T06:14:31.060803Z",
     "start_time": "2023-04-08T06:14:31.021353Z"
    }
   },
   "outputs": [
    {
     "data": {
      "text/html": [
       "<div>\n",
       "<style scoped>\n",
       "    .dataframe tbody tr th:only-of-type {\n",
       "        vertical-align: middle;\n",
       "    }\n",
       "\n",
       "    .dataframe tbody tr th {\n",
       "        vertical-align: top;\n",
       "    }\n",
       "\n",
       "    .dataframe thead th {\n",
       "        text-align: right;\n",
       "    }\n",
       "</style>\n",
       "<table border=\"1\" class=\"dataframe\">\n",
       "  <thead>\n",
       "    <tr style=\"text-align: right;\">\n",
       "      <th></th>\n",
       "      <th>Sales</th>\n",
       "    </tr>\n",
       "    <tr>\n",
       "      <th>Quarter</th>\n",
       "      <th></th>\n",
       "    </tr>\n",
       "  </thead>\n",
       "  <tbody>\n",
       "    <tr>\n",
       "      <th>Q1_86</th>\n",
       "      <td>1734.827000</td>\n",
       "    </tr>\n",
       "    <tr>\n",
       "      <th>Q2_86</th>\n",
       "      <td>2244.960999</td>\n",
       "    </tr>\n",
       "    <tr>\n",
       "      <th>Q3_86</th>\n",
       "      <td>2533.804993</td>\n",
       "    </tr>\n",
       "    <tr>\n",
       "      <th>Q4_86</th>\n",
       "      <td>2154.962997</td>\n",
       "    </tr>\n",
       "    <tr>\n",
       "      <th>Q1_87</th>\n",
       "      <td>1547.818996</td>\n",
       "    </tr>\n",
       "  </tbody>\n",
       "</table>\n",
       "</div>"
      ],
      "text/plain": [
       "               Sales\n",
       "Quarter             \n",
       "Q1_86    1734.827000\n",
       "Q2_86    2244.960999\n",
       "Q3_86    2533.804993\n",
       "Q4_86    2154.962997\n",
       "Q1_87    1547.818996"
      ]
     },
     "execution_count": 122,
     "metadata": {},
     "output_type": "execute_result"
    }
   ],
   "source": [
    "# Using ARIMA Model\n",
    "data = pd.read_excel(\"CocaCola_Sales_Rawdata.xlsx\",header=0,index_col=0, parse_dates=True)\n",
    "data.head() "
   ]
  },
  {
   "cell_type": "code",
   "execution_count": 123,
   "id": "156baa60",
   "metadata": {
    "ExecuteTime": {
     "end_time": "2023-04-08T06:14:54.588998Z",
     "start_time": "2023-04-08T06:14:54.578394Z"
    }
   },
   "outputs": [
    {
     "name": "stdout",
     "output_type": "stream",
     "text": [
      "Dataset_cc 35, Validation_cc 7\n"
     ]
    }
   ],
   "source": [
    "#separate out a validation dataset\n",
    "split_point = len(data) - 7\n",
    "dataset_cc, validation_cc = data[0:split_point], data[split_point:]\n",
    "print('Dataset_cc %d, Validation_cc %d' % (len(dataset_cc), len(validation_cc)))"
   ]
  },
  {
   "cell_type": "code",
   "execution_count": 124,
   "id": "2cd3d145",
   "metadata": {
    "ExecuteTime": {
     "end_time": "2023-04-08T06:15:43.917096Z",
     "start_time": "2023-04-08T06:15:43.898159Z"
    }
   },
   "outputs": [],
   "source": [
    "dataset_cc.to_csv('dataset_cc.csv', header=False)\n",
    "validation_cc.to_csv('validation_cc.csv', header=False)"
   ]
  },
  {
   "cell_type": "code",
   "execution_count": 125,
   "id": "f3ee447d",
   "metadata": {
    "ExecuteTime": {
     "end_time": "2023-04-08T06:15:45.877489Z",
     "start_time": "2023-04-08T06:15:45.856964Z"
    }
   },
   "outputs": [],
   "source": [
    "from pandas import read_csv\n",
    "from sklearn.metrics import mean_squared_error\n",
    "from math import sqrt"
   ]
  },
  {
   "cell_type": "code",
   "execution_count": 126,
   "id": "714a0a68",
   "metadata": {
    "ExecuteTime": {
     "end_time": "2023-04-08T06:16:03.012416Z",
     "start_time": "2023-04-08T06:16:02.974864Z"
    }
   },
   "outputs": [
    {
     "name": "stderr",
     "output_type": "stream",
     "text": [
      "C:\\Users\\HP\\AppData\\Local\\Temp\\ipykernel_5708\\3422618486.py:1: FutureWarning: The squeeze argument has been deprecated and will be removed in a future version. Append .squeeze(\"columns\") to the call to squeeze.\n",
      "\n",
      "\n",
      "  train = read_csv('dataset_cc.csv', header=None, index_col=0, parse_dates=True, squeeze=True)\n"
     ]
    },
    {
     "data": {
      "text/plain": [
       "0\n",
       "Q1_86    1734.827000\n",
       "Q2_86    2244.960999\n",
       "Q3_86    2533.804993\n",
       "Q4_86    2154.962997\n",
       "Q1_87    1547.818996\n",
       "Q2_87    2104.411995\n",
       "Q3_87    2014.362999\n",
       "Q4_87    1991.746998\n",
       "Q1_88    1869.049999\n",
       "Q2_88    2313.631996\n",
       "Q3_88    2128.320000\n",
       "Q4_88    2026.828999\n",
       "Q1_89    1910.603996\n",
       "Q2_89    2331.164993\n",
       "Q3_89    2206.549995\n",
       "Q4_89    2173.967995\n",
       "Q1_90    2148.278000\n",
       "Q2_90    2739.307999\n",
       "Q3_90    2792.753998\n",
       "Q4_90    2556.009995\n",
       "Q1_91    2480.973999\n",
       "Q2_91    3039.522995\n",
       "Q3_91    3172.115997\n",
       "Q4_91    2879.000999\n",
       "Q1_92    2772.000000\n",
       "Q2_92    3550.000000\n",
       "Q3_92    3508.000000\n",
       "Q4_92    3243.859993\n",
       "Q1_93    3056.000000\n",
       "Q2_93    3899.000000\n",
       "Q3_93    3629.000000\n",
       "Q4_93    3373.000000\n",
       "Q1_94    3352.000000\n",
       "Q2_94    4342.000000\n",
       "Q3_94    4461.000000\n",
       "Name: 1, dtype: float64"
      ]
     },
     "execution_count": 126,
     "metadata": {},
     "output_type": "execute_result"
    }
   ],
   "source": [
    "train = read_csv('dataset_cc.csv', header=None, index_col=0, parse_dates=True, squeeze=True)\n",
    "train"
   ]
  },
  {
   "cell_type": "code",
   "execution_count": 127,
   "id": "9979d040",
   "metadata": {
    "ExecuteTime": {
     "end_time": "2023-04-08T06:16:40.342954Z",
     "start_time": "2023-04-08T06:16:40.330507Z"
    }
   },
   "outputs": [],
   "source": [
    "x = train.values\n",
    "x = x.astype('float32')\n",
    "train_size = int(len(x) * 0.50)\n",
    "train, test = x[0:train_size], x[train_size:]"
   ]
  },
  {
   "cell_type": "code",
   "execution_count": 130,
   "id": "dbd69898",
   "metadata": {
    "ExecuteTime": {
     "end_time": "2023-04-08T06:18:22.905877Z",
     "start_time": "2023-04-08T06:18:22.881865Z"
    }
   },
   "outputs": [
    {
     "name": "stdout",
     "output_type": "stream",
     "text": [
      ">Predicted=2148.278, Expected=2739.308\n",
      ">Predicted=2739.308, Expected=2792.754\n",
      ">Predicted=2792.754, Expected=2556.010\n",
      ">Predicted=2556.010, Expected=2480.974\n",
      ">Predicted=2480.974, Expected=3039.523\n",
      ">Predicted=3039.523, Expected=3172.116\n",
      ">Predicted=3172.116, Expected=2879.001\n",
      ">Predicted=2879.001, Expected=2772.000\n",
      ">Predicted=2772.000, Expected=3550.000\n",
      ">Predicted=3550.000, Expected=3508.000\n",
      ">Predicted=3508.000, Expected=3243.860\n",
      ">Predicted=3243.860, Expected=3056.000\n",
      ">Predicted=3056.000, Expected=3899.000\n",
      ">Predicted=3899.000, Expected=3629.000\n",
      ">Predicted=3629.000, Expected=3373.000\n",
      ">Predicted=3373.000, Expected=3352.000\n",
      ">Predicted=3352.000, Expected=4342.000\n",
      ">Predicted=4342.000, Expected=4461.000\n"
     ]
    }
   ],
   "source": [
    "# Model Validation \n",
    "history = [x for x in train]\n",
    "predictions = list()\n",
    "for i in range(len(test)):\n",
    "    yhat = history[-1]\n",
    "    predictions.append(yhat)\n",
    "# observation\n",
    "    obs = test[i]\n",
    "    history.append(obs)\n",
    "    print('>Predicted=%.3f, Expected=%.3f' % (yhat, obs))"
   ]
  },
  {
   "cell_type": "code",
   "execution_count": 129,
   "id": "18caccc2",
   "metadata": {
    "ExecuteTime": {
     "end_time": "2023-04-08T06:17:41.205094Z",
     "start_time": "2023-04-08T06:17:41.186392Z"
    }
   },
   "outputs": [
    {
     "data": {
      "text/plain": [
       "[1734.827,\n",
       " 2244.961,\n",
       " 2533.805,\n",
       " 2154.963,\n",
       " 1547.819,\n",
       " 2104.412,\n",
       " 2014.363,\n",
       " 1991.747,\n",
       " 1869.05,\n",
       " 2313.632,\n",
       " 2128.32,\n",
       " 2026.829,\n",
       " 1910.604,\n",
       " 2331.165,\n",
       " 2206.55,\n",
       " 2173.968,\n",
       " 2148.278]"
      ]
     },
     "execution_count": 129,
     "metadata": {},
     "output_type": "execute_result"
    }
   ],
   "source": [
    "history"
   ]
  },
  {
   "cell_type": "code",
   "execution_count": 131,
   "id": "8049e1aa",
   "metadata": {
    "ExecuteTime": {
     "end_time": "2023-04-08T06:18:54.140962Z",
     "start_time": "2023-04-08T06:18:54.116978Z"
    }
   },
   "outputs": [
    {
     "data": {
      "text/plain": [
       "434.40066470943617"
      ]
     },
     "execution_count": 131,
     "metadata": {},
     "output_type": "execute_result"
    }
   ],
   "source": [
    "# report performance of Root_Mean_Square_Error(rmse)\n",
    "rmse = sqrt(mean_squared_error(test, predictions))\n",
    "rmse"
   ]
  },
  {
   "cell_type": "code",
   "execution_count": 135,
   "id": "0447ecb4",
   "metadata": {
    "ExecuteTime": {
     "end_time": "2023-04-08T06:19:55.237294Z",
     "start_time": "2023-04-08T06:19:55.219859Z"
    }
   },
   "outputs": [
    {
     "data": {
      "text/html": [
       "<div>\n",
       "<style scoped>\n",
       "    .dataframe tbody tr th:only-of-type {\n",
       "        vertical-align: middle;\n",
       "    }\n",
       "\n",
       "    .dataframe tbody tr th {\n",
       "        vertical-align: top;\n",
       "    }\n",
       "\n",
       "    .dataframe thead th {\n",
       "        text-align: right;\n",
       "    }\n",
       "</style>\n",
       "<table border=\"1\" class=\"dataframe\">\n",
       "  <thead>\n",
       "    <tr style=\"text-align: right;\">\n",
       "      <th></th>\n",
       "      <th>MODEL</th>\n",
       "      <th>RMSE_Values</th>\n",
       "    </tr>\n",
       "  </thead>\n",
       "  <tbody>\n",
       "    <tr>\n",
       "      <th>0</th>\n",
       "      <td>rmse_linear</td>\n",
       "      <td>752.923393</td>\n",
       "    </tr>\n",
       "    <tr>\n",
       "      <th>1</th>\n",
       "      <td>rmse_exp</td>\n",
       "      <td>4387.940545</td>\n",
       "    </tr>\n",
       "    <tr>\n",
       "      <th>2</th>\n",
       "      <td>rmse_quad</td>\n",
       "      <td>457.735736</td>\n",
       "    </tr>\n",
       "    <tr>\n",
       "      <th>3</th>\n",
       "      <td>RMSE_ARIMA</td>\n",
       "      <td>434.400665</td>\n",
       "    </tr>\n",
       "  </tbody>\n",
       "</table>\n",
       "</div>"
      ],
      "text/plain": [
       "         MODEL  RMSE_Values\n",
       "0  rmse_linear   752.923393\n",
       "1     rmse_exp  4387.940545\n",
       "2    rmse_quad   457.735736\n",
       "3   RMSE_ARIMA   434.400665"
      ]
     },
     "execution_count": 135,
     "metadata": {},
     "output_type": "execute_result"
    }
   ],
   "source": [
    "data = {\"MODEL\":pd.Series([\"rmse_linear\",\"rmse_exp\",\"rmse_quad\",\"RMSE_ARIMA\"]),\n",
    "        \"RMSE_Values\":pd.Series([lr_rmse,exp_rmse,q_rmse,rmse])}\n",
    "table_rmse=pd.DataFrame(data)\n",
    "table_rmse"
   ]
  },
  {
   "cell_type": "code",
   "execution_count": null,
   "id": "57cae847",
   "metadata": {},
   "outputs": [],
   "source": []
  }
 ],
 "metadata": {
  "kernelspec": {
   "display_name": "Python 3 (ipykernel)",
   "language": "python",
   "name": "python3"
  },
  "language_info": {
   "codemirror_mode": {
    "name": "ipython",
    "version": 3
   },
   "file_extension": ".py",
   "mimetype": "text/x-python",
   "name": "python",
   "nbconvert_exporter": "python",
   "pygments_lexer": "ipython3",
   "version": "3.10.9"
  }
 },
 "nbformat": 4,
 "nbformat_minor": 5
}
